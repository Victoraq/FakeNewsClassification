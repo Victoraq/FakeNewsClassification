{
 "cells": [
  {
   "cell_type": "code",
   "execution_count": 0,
   "metadata": {
    "colab": {},
    "colab_type": "code",
    "collapsed": true,
    "id": "3Pfh_Efu4T0C"
   },
   "outputs": [],
   "source": [
    "# auxiliar libraries\n",
    "import pandas as pd\n",
    "import re\n",
    "import joblib\n",
    "from sklearn.feature_extraction.text import CountVectorizer, TfidfTransformer\n",
    "from sklearn.metrics import accuracy_score, precision_score, confusion_matrix\n",
    "from sklearn.model_selection import train_test_split, cross_val_score, cross_val_predict, GridSearchCV\n",
    "from sklearn.pipeline import Pipeline\n",
    "\n",
    "# models\n",
    "from sklearn.linear_model import LogisticRegression, SGDClassifier\n",
    "from sklearn.calibration import CalibratedClassifierCV\n",
    "from sklearn.svm import LinearSVC, SVC\n",
    "from xgboost import XGBClassifier\n",
    "from sklearn.tree import DecisionTreeClassifier\n",
    "from sklearn.ensemble import RandomForestClassifier, VotingClassifier\n",
    "\n",
    "PATH = './' # <--- Change this"
   ]
  },
  {
   "cell_type": "code",
   "execution_count": 0,
   "metadata": {
    "colab": {},
    "colab_type": "code",
    "collapsed": true,
    "id": "eUjyZCFn4T0I"
   },
   "outputs": [],
   "source": [
    "trueNews = pd.read_csv(PATH + 'datasets/FakeNews/True.csv')\n",
    "fakeNews = pd.read_csv(PATH + 'datasets/FakeNews/Fake.csv')"
   ]
  },
  {
   "cell_type": "code",
   "execution_count": 5,
   "metadata": {
    "colab": {
     "base_uri": "https://localhost:8080/",
     "height": 204
    },
    "colab_type": "code",
    "id": "Zxb6Vr-X4T0M",
    "outputId": "8e058922-5bd7-4441-be85-62da1edc7792"
   },
   "outputs": [
    {
     "data": {
      "text/html": [
       "<div>\n",
       "<style scoped>\n",
       "    .dataframe tbody tr th:only-of-type {\n",
       "        vertical-align: middle;\n",
       "    }\n",
       "\n",
       "    .dataframe tbody tr th {\n",
       "        vertical-align: top;\n",
       "    }\n",
       "\n",
       "    .dataframe thead th {\n",
       "        text-align: right;\n",
       "    }\n",
       "</style>\n",
       "<table border=\"1\" class=\"dataframe\">\n",
       "  <thead>\n",
       "    <tr style=\"text-align: right;\">\n",
       "      <th></th>\n",
       "      <th>title</th>\n",
       "      <th>text</th>\n",
       "      <th>subject</th>\n",
       "      <th>date</th>\n",
       "    </tr>\n",
       "  </thead>\n",
       "  <tbody>\n",
       "    <tr>\n",
       "      <th>0</th>\n",
       "      <td>As U.S. budget fight looms, Republicans flip t...</td>\n",
       "      <td>WASHINGTON (Reuters) - The head of a conservat...</td>\n",
       "      <td>politicsNews</td>\n",
       "      <td>December 31, 2017</td>\n",
       "    </tr>\n",
       "    <tr>\n",
       "      <th>1</th>\n",
       "      <td>U.S. military to accept transgender recruits o...</td>\n",
       "      <td>WASHINGTON (Reuters) - Transgender people will...</td>\n",
       "      <td>politicsNews</td>\n",
       "      <td>December 29, 2017</td>\n",
       "    </tr>\n",
       "    <tr>\n",
       "      <th>2</th>\n",
       "      <td>Senior U.S. Republican senator: 'Let Mr. Muell...</td>\n",
       "      <td>WASHINGTON (Reuters) - The special counsel inv...</td>\n",
       "      <td>politicsNews</td>\n",
       "      <td>December 31, 2017</td>\n",
       "    </tr>\n",
       "    <tr>\n",
       "      <th>3</th>\n",
       "      <td>FBI Russia probe helped by Australian diplomat...</td>\n",
       "      <td>WASHINGTON (Reuters) - Trump campaign adviser ...</td>\n",
       "      <td>politicsNews</td>\n",
       "      <td>December 30, 2017</td>\n",
       "    </tr>\n",
       "    <tr>\n",
       "      <th>4</th>\n",
       "      <td>Trump wants Postal Service to charge 'much mor...</td>\n",
       "      <td>SEATTLE/WASHINGTON (Reuters) - President Donal...</td>\n",
       "      <td>politicsNews</td>\n",
       "      <td>December 29, 2017</td>\n",
       "    </tr>\n",
       "  </tbody>\n",
       "</table>\n",
       "</div>"
      ],
      "text/plain": [
       "                                               title  ...                date\n",
       "0  As U.S. budget fight looms, Republicans flip t...  ...  December 31, 2017 \n",
       "1  U.S. military to accept transgender recruits o...  ...  December 29, 2017 \n",
       "2  Senior U.S. Republican senator: 'Let Mr. Muell...  ...  December 31, 2017 \n",
       "3  FBI Russia probe helped by Australian diplomat...  ...  December 30, 2017 \n",
       "4  Trump wants Postal Service to charge 'much mor...  ...  December 29, 2017 \n",
       "\n",
       "[5 rows x 4 columns]"
      ]
     },
     "execution_count": 5,
     "metadata": {
      "tags": []
     },
     "output_type": "execute_result"
    }
   ],
   "source": [
    "trueNews.head()"
   ]
  },
  {
   "cell_type": "code",
   "execution_count": 6,
   "metadata": {
    "colab": {
     "base_uri": "https://localhost:8080/",
     "height": 204
    },
    "colab_type": "code",
    "id": "Pjv2rPOD4T0R",
    "outputId": "782d359b-37c1-42eb-d3f0-d1224d7e2bdf"
   },
   "outputs": [
    {
     "data": {
      "text/html": [
       "<div>\n",
       "<style scoped>\n",
       "    .dataframe tbody tr th:only-of-type {\n",
       "        vertical-align: middle;\n",
       "    }\n",
       "\n",
       "    .dataframe tbody tr th {\n",
       "        vertical-align: top;\n",
       "    }\n",
       "\n",
       "    .dataframe thead th {\n",
       "        text-align: right;\n",
       "    }\n",
       "</style>\n",
       "<table border=\"1\" class=\"dataframe\">\n",
       "  <thead>\n",
       "    <tr style=\"text-align: right;\">\n",
       "      <th></th>\n",
       "      <th>title</th>\n",
       "      <th>text</th>\n",
       "      <th>subject</th>\n",
       "      <th>date</th>\n",
       "    </tr>\n",
       "  </thead>\n",
       "  <tbody>\n",
       "    <tr>\n",
       "      <th>0</th>\n",
       "      <td>Donald Trump Sends Out Embarrassing New Year’...</td>\n",
       "      <td>Donald Trump just couldn t wish all Americans ...</td>\n",
       "      <td>News</td>\n",
       "      <td>December 31, 2017</td>\n",
       "    </tr>\n",
       "    <tr>\n",
       "      <th>1</th>\n",
       "      <td>Drunk Bragging Trump Staffer Started Russian ...</td>\n",
       "      <td>House Intelligence Committee Chairman Devin Nu...</td>\n",
       "      <td>News</td>\n",
       "      <td>December 31, 2017</td>\n",
       "    </tr>\n",
       "    <tr>\n",
       "      <th>2</th>\n",
       "      <td>Sheriff David Clarke Becomes An Internet Joke...</td>\n",
       "      <td>On Friday, it was revealed that former Milwauk...</td>\n",
       "      <td>News</td>\n",
       "      <td>December 30, 2017</td>\n",
       "    </tr>\n",
       "    <tr>\n",
       "      <th>3</th>\n",
       "      <td>Trump Is So Obsessed He Even Has Obama’s Name...</td>\n",
       "      <td>On Christmas day, Donald Trump announced that ...</td>\n",
       "      <td>News</td>\n",
       "      <td>December 29, 2017</td>\n",
       "    </tr>\n",
       "    <tr>\n",
       "      <th>4</th>\n",
       "      <td>Pope Francis Just Called Out Donald Trump Dur...</td>\n",
       "      <td>Pope Francis used his annual Christmas Day mes...</td>\n",
       "      <td>News</td>\n",
       "      <td>December 25, 2017</td>\n",
       "    </tr>\n",
       "  </tbody>\n",
       "</table>\n",
       "</div>"
      ],
      "text/plain": [
       "                                               title  ...               date\n",
       "0   Donald Trump Sends Out Embarrassing New Year’...  ...  December 31, 2017\n",
       "1   Drunk Bragging Trump Staffer Started Russian ...  ...  December 31, 2017\n",
       "2   Sheriff David Clarke Becomes An Internet Joke...  ...  December 30, 2017\n",
       "3   Trump Is So Obsessed He Even Has Obama’s Name...  ...  December 29, 2017\n",
       "4   Pope Francis Just Called Out Donald Trump Dur...  ...  December 25, 2017\n",
       "\n",
       "[5 rows x 4 columns]"
      ]
     },
     "execution_count": 6,
     "metadata": {
      "tags": []
     },
     "output_type": "execute_result"
    }
   ],
   "source": [
    "fakeNews.head()"
   ]
  },
  {
   "cell_type": "markdown",
   "metadata": {
    "colab_type": "text",
    "id": "qv2UQzVG4T0V"
   },
   "source": [
    "Subjects inside each dataset"
   ]
  },
  {
   "cell_type": "code",
   "execution_count": 7,
   "metadata": {
    "colab": {
     "base_uri": "https://localhost:8080/",
     "height": 34
    },
    "colab_type": "code",
    "id": "c3_7r-wk4T0W",
    "outputId": "ff888f7d-49a7-479b-b97f-78757925fb66"
   },
   "outputs": [
    {
     "data": {
      "text/plain": [
       "array(['politicsNews', 'worldnews'], dtype=object)"
      ]
     },
     "execution_count": 7,
     "metadata": {
      "tags": []
     },
     "output_type": "execute_result"
    }
   ],
   "source": [
    "trueNews.subject.unique()"
   ]
  },
  {
   "cell_type": "code",
   "execution_count": 8,
   "metadata": {
    "colab": {
     "base_uri": "https://localhost:8080/",
     "height": 51
    },
    "colab_type": "code",
    "id": "0Xj185ml4T0a",
    "outputId": "42e0e457-596d-4ff4-8a87-a733526f9835"
   },
   "outputs": [
    {
     "data": {
      "text/plain": [
       "array(['News', 'politics', 'Government News', 'left-news', 'US_News',\n",
       "       'Middle-east'], dtype=object)"
      ]
     },
     "execution_count": 8,
     "metadata": {
      "tags": []
     },
     "output_type": "execute_result"
    }
   ],
   "source": [
    "fakeNews.subject.unique()"
   ]
  },
  {
   "cell_type": "markdown",
   "metadata": {
    "colab_type": "text",
    "id": "yJ9IPWeN4T0e"
   },
   "source": [
    "### Looking for nan or null values to drop"
   ]
  },
  {
   "cell_type": "code",
   "execution_count": 9,
   "metadata": {
    "colab": {
     "base_uri": "https://localhost:8080/",
     "height": 102
    },
    "colab_type": "code",
    "id": "F7cSiR6h4T0f",
    "outputId": "f3b2a3c9-09f7-4cf7-c9da-c83a513f136b"
   },
   "outputs": [
    {
     "data": {
      "text/plain": [
       "title      0\n",
       "text       0\n",
       "subject    0\n",
       "date       0\n",
       "dtype: int64"
      ]
     },
     "execution_count": 9,
     "metadata": {
      "tags": []
     },
     "output_type": "execute_result"
    }
   ],
   "source": [
    "trueNews.isnull().sum()"
   ]
  },
  {
   "cell_type": "code",
   "execution_count": 10,
   "metadata": {
    "colab": {
     "base_uri": "https://localhost:8080/",
     "height": 102
    },
    "colab_type": "code",
    "id": "oSfcX7mI4T0j",
    "outputId": "1fa8a933-3221-452d-d657-d5ea5d8b97cd"
   },
   "outputs": [
    {
     "data": {
      "text/plain": [
       "title      0\n",
       "text       0\n",
       "subject    0\n",
       "date       0\n",
       "dtype: int64"
      ]
     },
     "execution_count": 10,
     "metadata": {
      "tags": []
     },
     "output_type": "execute_result"
    }
   ],
   "source": [
    "fakeNews.isnull().sum()"
   ]
  },
  {
   "cell_type": "markdown",
   "metadata": {
    "colab_type": "text",
    "collapsed": true,
    "id": "OjbvBHQg4T0n"
   },
   "source": [
    "The datasets does not have any null value"
   ]
  },
  {
   "cell_type": "markdown",
   "metadata": {
    "colab_type": "text",
    "id": "QekNRZsk4T0n"
   },
   "source": [
    "### Avaliating the text size"
   ]
  },
  {
   "cell_type": "code",
   "execution_count": 0,
   "metadata": {
    "colab": {},
    "colab_type": "code",
    "collapsed": true,
    "id": "WTGfXqyy4T0o"
   },
   "outputs": [],
   "source": [
    "true_len = trueNews.text.apply(lambda x: len(x))\n",
    "fake_len = fakeNews.text.apply(lambda x: len(x))"
   ]
  },
  {
   "cell_type": "code",
   "execution_count": 12,
   "metadata": {
    "colab": {
     "base_uri": "https://localhost:8080/",
     "height": 221
    },
    "colab_type": "code",
    "id": "i_AgTF-J4T0s",
    "outputId": "205bde1f-5b93-4b7d-a49b-1fa74413cead",
    "scrolled": true
   },
   "outputs": [
    {
     "name": "stdout",
     "output_type": "stream",
     "text": [
      "0.01     277.00\n",
      "0.25     914.00\n",
      "0.50    2222.00\n",
      "0.75    3237.00\n",
      "0.99    7097.52\n",
      "Name: text, dtype: float64\n",
      "0.01        1.0\n",
      "0.25     1433.0\n",
      "0.50     2166.0\n",
      "0.75     3032.0\n",
      "0.99    11827.0\n",
      "Name: text, dtype: float64\n"
     ]
    }
   ],
   "source": [
    "print(true_len.quantile([.01, .25, .5, .75, .99]))\n",
    "print(fake_len.quantile([.01, .25, .5, .75, .99]))"
   ]
  },
  {
   "cell_type": "markdown",
   "metadata": {
    "colab_type": "text",
    "id": "ralYGhr34T0v"
   },
   "source": [
    "As could be seen in the quantiles, the datasets contains really short texts that must be dropped."
   ]
  },
  {
   "cell_type": "code",
   "execution_count": 13,
   "metadata": {
    "colab": {
     "base_uri": "https://localhost:8080/",
     "height": 34
    },
    "colab_type": "code",
    "id": "-x2U03aG4T0w",
    "outputId": "1f9f52d8-bd1e-4c29-ba6a-096a4c2731ca"
   },
   "outputs": [
    {
     "name": "stdout",
     "output_type": "stream",
     "text": [
      "21283 21724\n"
     ]
    }
   ],
   "source": [
    "trueNews['text_length'] = true_len\n",
    "fakeNews['text_length'] = fake_len\n",
    "\n",
    "trueNews = trueNews[trueNews['text_length'] >= 250]\n",
    "fakeNews = fakeNews[fakeNews['text_length'] >= 250]\n",
    "\n",
    "trueNews.drop('text_length', axis=1, inplace=True)\n",
    "fakeNews.drop('text_length', axis=1, inplace=True)\n",
    "\n",
    "print(len(trueNews), len(fakeNews))"
   ]
  },
  {
   "cell_type": "markdown",
   "metadata": {
    "colab_type": "text",
    "id": "5AF2W_RC4T0-"
   },
   "source": [
    "The punctuation count quantiles does not show a significant diference between them, so they will be not considered as features"
   ]
  },
  {
   "cell_type": "markdown",
   "metadata": {
    "colab_type": "text",
    "id": "X1QVbamh4T0_"
   },
   "source": [
    "### Removing urls"
   ]
  },
  {
   "cell_type": "code",
   "execution_count": 0,
   "metadata": {
    "colab": {},
    "colab_type": "code",
    "collapsed": true,
    "id": "BmBc_Vtv4T1A"
   },
   "outputs": [],
   "source": [
    "def remove_URL(text):\n",
    "    url = re.compile(r'https?://\\S+|www\\.\\S+')\n",
    "    return url.sub(r'',text)\n",
    "\n",
    "trueNews.text = trueNews.text.apply(remove_URL)\n",
    "fakeNews.text = fakeNews.text.apply(remove_URL)"
   ]
  },
  {
   "cell_type": "markdown",
   "metadata": {
    "colab_type": "text",
    "id": "Ahv36afeoIy-"
   },
   "source": [
    "### Removing the news provider name"
   ]
  },
  {
   "cell_type": "code",
   "execution_count": 0,
   "metadata": {
    "colab": {},
    "colab_type": "code",
    "collapsed": true,
    "id": "Dc6rEpK5oUlT"
   },
   "outputs": [],
   "source": [
    "to_replace = {'reuters': '', 'Reuters': ''}\n",
    "def replace_all(text, dic):\n",
    "    for i, j in dic.items():\n",
    "        text = text.replace(i, j)\n",
    "    return text\n",
    "\n",
    "trueNews.text = trueNews.text.apply(lambda x: x.split('(Reuters) - ')[1] if '(Reuters) - ' in x else x) # removing the provider header\n",
    "trueNews.text = trueNews.text.apply(lambda x: replace_all(x, to_replace))\n",
    "fakeNews.text = fakeNews.text.apply(lambda x: replace_all(x, to_replace))"
   ]
  },
  {
   "cell_type": "markdown",
   "metadata": {
    "colab_type": "text",
    "id": "HpwT4JsF4T1E"
   },
   "source": [
    "### Merging the datasets"
   ]
  },
  {
   "cell_type": "code",
   "execution_count": 0,
   "metadata": {
    "colab": {},
    "colab_type": "code",
    "collapsed": true,
    "id": "lB40E5dR4T1E"
   },
   "outputs": [],
   "source": [
    "trueNews['target'] = 'true'\n",
    "fakeNews['target'] = 'fake'\n",
    "\n",
    "columns = ['title', 'text', 'target']\n",
    "df = pd.concat([trueNews[columns], fakeNews[columns]]).reset_index(drop = True)"
   ]
  },
  {
   "cell_type": "code",
   "execution_count": 17,
   "metadata": {
    "colab": {
     "base_uri": "https://localhost:8080/",
     "height": 204
    },
    "colab_type": "code",
    "id": "nDmTfL0D4T1I",
    "outputId": "7abc1f5a-69df-4d02-f118-7f6c74fbc95d"
   },
   "outputs": [
    {
     "data": {
      "text/html": [
       "<div>\n",
       "<style scoped>\n",
       "    .dataframe tbody tr th:only-of-type {\n",
       "        vertical-align: middle;\n",
       "    }\n",
       "\n",
       "    .dataframe tbody tr th {\n",
       "        vertical-align: top;\n",
       "    }\n",
       "\n",
       "    .dataframe thead th {\n",
       "        text-align: right;\n",
       "    }\n",
       "</style>\n",
       "<table border=\"1\" class=\"dataframe\">\n",
       "  <thead>\n",
       "    <tr style=\"text-align: right;\">\n",
       "      <th></th>\n",
       "      <th>title</th>\n",
       "      <th>text</th>\n",
       "      <th>target</th>\n",
       "    </tr>\n",
       "  </thead>\n",
       "  <tbody>\n",
       "    <tr>\n",
       "      <th>0</th>\n",
       "      <td>As U.S. budget fight looms, Republicans flip t...</td>\n",
       "      <td>The head of a conservative Republican faction ...</td>\n",
       "      <td>true</td>\n",
       "    </tr>\n",
       "    <tr>\n",
       "      <th>1</th>\n",
       "      <td>U.S. military to accept transgender recruits o...</td>\n",
       "      <td>Transgender people will be allowed for the fir...</td>\n",
       "      <td>true</td>\n",
       "    </tr>\n",
       "    <tr>\n",
       "      <th>2</th>\n",
       "      <td>Senior U.S. Republican senator: 'Let Mr. Muell...</td>\n",
       "      <td>The special counsel investigation of links bet...</td>\n",
       "      <td>true</td>\n",
       "    </tr>\n",
       "    <tr>\n",
       "      <th>3</th>\n",
       "      <td>FBI Russia probe helped by Australian diplomat...</td>\n",
       "      <td>Trump campaign adviser George Papadopoulos tol...</td>\n",
       "      <td>true</td>\n",
       "    </tr>\n",
       "    <tr>\n",
       "      <th>4</th>\n",
       "      <td>Trump wants Postal Service to charge 'much mor...</td>\n",
       "      <td>President Donald Trump called on the U.S. Post...</td>\n",
       "      <td>true</td>\n",
       "    </tr>\n",
       "  </tbody>\n",
       "</table>\n",
       "</div>"
      ],
      "text/plain": [
       "                                               title  ... target\n",
       "0  As U.S. budget fight looms, Republicans flip t...  ...   true\n",
       "1  U.S. military to accept transgender recruits o...  ...   true\n",
       "2  Senior U.S. Republican senator: 'Let Mr. Muell...  ...   true\n",
       "3  FBI Russia probe helped by Australian diplomat...  ...   true\n",
       "4  Trump wants Postal Service to charge 'much mor...  ...   true\n",
       "\n",
       "[5 rows x 3 columns]"
      ]
     },
     "execution_count": 17,
     "metadata": {
      "tags": []
     },
     "output_type": "execute_result"
    }
   ],
   "source": [
    "df.head()"
   ]
  },
  {
   "cell_type": "markdown",
   "metadata": {
    "colab_type": "text",
    "id": "qo9P5g_1eV7j"
   },
   "source": [
    "Splitting the datasets"
   ]
  },
  {
   "cell_type": "code",
   "execution_count": 0,
   "metadata": {
    "colab": {},
    "colab_type": "code",
    "collapsed": true,
    "id": "mVOXlh9y4T1R"
   },
   "outputs": [],
   "source": [
    "RANDOM_STATE = 42\n",
    "x_train, x_test, y_train, y_test = train_test_split(df['text'], df.target, test_size=0.2, shuffle=True, random_state=RANDOM_STATE)"
   ]
  },
  {
   "cell_type": "markdown",
   "metadata": {
    "colab_type": "text",
    "collapsed": true,
    "id": "oA6RI3Qn4T1M"
   },
   "source": [
    "# Evaluating models"
   ]
  },
  {
   "cell_type": "markdown",
   "metadata": {
    "colab_type": "text",
    "id": "NFfnP42e4T1M"
   },
   "source": [
    "In this section, will be evaluated several machine learning models with cross-validation to find a shortlist of promising models."
   ]
  },
  {
   "cell_type": "markdown",
   "metadata": {
    "colab_type": "text",
    "id": "Nav_P98B4T1N"
   },
   "source": [
    "Defining functions to print some metrics"
   ]
  },
  {
   "cell_type": "code",
   "execution_count": 0,
   "metadata": {
    "colab": {},
    "colab_type": "code",
    "collapsed": true,
    "id": "Rsewo_N84T1O"
   },
   "outputs": [],
   "source": [
    "def display_scores(scores):\n",
    "    for k in range(len(scores)):\n",
    "        print(\"Accuracy of {}-fold: {}%\".format(k+1,round(scores[k]*100,2)))\n",
    "    print(\"Mean:\", round(scores.mean()*100, 2))\n",
    "    print(\"Standard deviation:\", round(scores.std()*100, 4))\n",
    "    \n",
    "def performance_measurement(pipeline, x_train, y_train):\n",
    "    print(\"-- Cross Validation --\")\n",
    "    cross_val = cross_val_score(pipeline, x_train, y_train, cv=5, scoring=\"accuracy\")\n",
    "    display_scores(cross_val)\n",
    "    \n",
    "    y_train_pred = cross_val_predict(pipeline, x_train, y_train, cv=5)\n",
    "    \n",
    "    print(\"\\n-- Precision --\")\n",
    "    print(\"Precision of {}%\".format(round(precision_score(y_train, y_train_pred, pos_label='true')*100,2)))\n",
    "    \n",
    "    print(\"\\n-- Confusion Matrix --\")\n",
    "    print(confusion_matrix(y_train, y_train_pred))"
   ]
  },
  {
   "cell_type": "markdown",
   "metadata": {
    "colab_type": "text",
    "id": "0l5mDKI44T1R"
   },
   "source": [
    "### Defining each metric:\n",
    "\n",
    "#### Accuracy: \n",
    "\n",
    "$$Accuracy = \\frac{True Positives}{Total}$$\n",
    "\n",
    "#### Precision: \n",
    "\n",
    "$$Precision = \\frac{True Positives}{True Positives + False Positives}$$\n",
    "\n",
    "#### Confusion Matrix:\n",
    "\n",
    "<table>\n",
    "  <tr>\n",
    "    <td style=\"border:1px solid black\">True Negatives</td>\n",
    "    <td style=\"border:1px solid black\">False Positives</td>\n",
    "  </tr>\n",
    "  <tr>\n",
    "    <td style=\"border:1px solid black\">False Negatives</td>\n",
    "    <td style=\"border:1px solid black\">True Positives</td>\n",
    "  </tr>\n",
    "</table>"
   ]
  },
  {
   "cell_type": "markdown",
   "metadata": {
    "colab_type": "text",
    "id": "fya0kCsj4T1U"
   },
   "source": [
    "## Logistic Regression"
   ]
  },
  {
   "cell_type": "code",
   "execution_count": 0,
   "metadata": {
    "colab": {
     "base_uri": "https://localhost:8080/",
     "height": 272
    },
    "colab_type": "code",
    "id": "YjAfbwvF4T1V",
    "outputId": "a5263f14-720c-48f4-ea81-d94a4c09c01a"
   },
   "outputs": [
    {
     "name": "stdout",
     "output_type": "stream",
     "text": [
      "-- Cross Validation --\n",
      "Accuracy of 1-fold: 97.73%\n",
      "Accuracy of 2-fold: 97.95%\n",
      "Accuracy of 3-fold: 98.01%\n",
      "Accuracy of 4-fold: 98.01%\n",
      "Accuracy of 5-fold: 98.05%\n",
      "Mean: 97.95\n",
      "Standard deviation: 0.1137\n",
      "\n",
      "-- Precision --\n",
      "Precision of 97.56%\n",
      "\n",
      "-- Confusion Matrix --\n",
      "[[16993   417]\n",
      " [  288 16707]]\n"
     ]
    }
   ],
   "source": [
    "pipeline = Pipeline([('vect', CountVectorizer()),\n",
    "                     ('tfidf', TfidfTransformer()),\n",
    "                     ('model', LogisticRegression(random_state=RANDOM_STATE))\n",
    "                     ])\n",
    "\n",
    "performance_measurement(pipeline, x_train, y_train)"
   ]
  },
  {
   "cell_type": "markdown",
   "metadata": {
    "colab_type": "text",
    "id": "W_q0PNwN4T1Y"
   },
   "source": [
    "## Linear Support Vector Classifier"
   ]
  },
  {
   "cell_type": "code",
   "execution_count": 0,
   "metadata": {
    "colab": {
     "base_uri": "https://localhost:8080/",
     "height": 272
    },
    "colab_type": "code",
    "id": "81aizRGP88ZP",
    "outputId": "828ed63c-ac95-40c2-aefa-2a2136cef1dc"
   },
   "outputs": [
    {
     "name": "stdout",
     "output_type": "stream",
     "text": [
      "-- Cross Validation --\n",
      "Accuracy of 1-fold: 98.82%\n",
      "Accuracy of 2-fold: 99.01%\n",
      "Accuracy of 3-fold: 98.87%\n",
      "Accuracy of 4-fold: 98.79%\n",
      "Accuracy of 5-fold: 98.91%\n",
      "Mean: 98.88\n",
      "Standard deviation: 0.0763\n",
      "\n",
      "-- Precision --\n",
      "Precision of 98.79%\n",
      "\n",
      "-- Confusion Matrix --\n",
      "[[17204   206]\n",
      " [  179 16816]]\n"
     ]
    }
   ],
   "source": [
    "pipeline = Pipeline([('vect', CountVectorizer()),\n",
    "                     ('tfidf', TfidfTransformer()),\n",
    "                     ('model', LinearSVC(random_state=RANDOM_STATE))\n",
    "                     ])\n",
    "\n",
    "performance_measurement(pipeline, x_train, y_train)"
   ]
  },
  {
   "cell_type": "markdown",
   "metadata": {
    "colab_type": "text",
    "id": "lvn4xh-J4T1c"
   },
   "source": [
    "## Stochastic Gradient Descent"
   ]
  },
  {
   "cell_type": "code",
   "execution_count": 0,
   "metadata": {
    "colab": {
     "base_uri": "https://localhost:8080/",
     "height": 272
    },
    "colab_type": "code",
    "id": "TEbkLi3-4T1c",
    "outputId": "a9fb0c23-afa8-4677-dec2-e6433366291c",
    "scrolled": true
   },
   "outputs": [
    {
     "name": "stdout",
     "output_type": "stream",
     "text": [
      "-- Cross Validation --\n",
      "Accuracy of 1-fold: 98.18%\n",
      "Accuracy of 2-fold: 98.37%\n",
      "Accuracy of 3-fold: 98.43%\n",
      "Accuracy of 4-fold: 98.49%\n",
      "Accuracy of 5-fold: 98.49%\n",
      "Mean: 98.39\n",
      "Standard deviation: 0.1132\n",
      "\n",
      "-- Precision --\n",
      "Precision of 98.05%\n",
      "\n",
      "-- Confusion Matrix --\n",
      "[[17077   333]\n",
      " [  220 16775]]\n"
     ]
    }
   ],
   "source": [
    "pipeline = Pipeline([('vect', CountVectorizer()),\n",
    "                     ('tfidf', TfidfTransformer()),\n",
    "                     ('model', SGDClassifier(random_state=RANDOM_STATE))\n",
    "                     ])\n",
    "\n",
    "performance_measurement(pipeline, x_train, y_train)"
   ]
  },
  {
   "cell_type": "markdown",
   "metadata": {
    "colab_type": "text",
    "id": "7DqSDyhx4T1h"
   },
   "source": [
    "## Gradient Boost Classifier"
   ]
  },
  {
   "cell_type": "code",
   "execution_count": 0,
   "metadata": {
    "colab": {
     "base_uri": "https://localhost:8080/",
     "height": 272
    },
    "colab_type": "code",
    "id": "d3c-ViF_4T1h",
    "outputId": "ddbd9e29-d822-4128-fec3-82baaad9776b"
   },
   "outputs": [
    {
     "name": "stdout",
     "output_type": "stream",
     "text": [
      "-- Cross Validation --\n",
      "Accuracy of 1-fold: 94.62%\n",
      "Accuracy of 2-fold: 95.36%\n",
      "Accuracy of 3-fold: 95.06%\n",
      "Accuracy of 4-fold: 95.35%\n",
      "Accuracy of 5-fold: 95.36%\n",
      "Mean: 95.15\n",
      "Standard deviation: 0.289\n",
      "\n",
      "-- Precision --\n",
      "Precision of 94.6%\n",
      "\n",
      "-- Confusion Matrix --\n",
      "[[16483   927]\n",
      " [  741 16254]]\n"
     ]
    }
   ],
   "source": [
    "pipeline = Pipeline([('vect', CountVectorizer()),\n",
    "                     ('tfidf', TfidfTransformer()),\n",
    "                     ('model', XGBClassifier(\n",
    "                        learning_rate = 0.01,\n",
    "                        n_estimators = 100,\n",
    "                        max_depth = 10,\n",
    "                        objective = 'binary:logistic',\n",
    "                        random_state=RANDOM_STATE)\n",
    "                     )])\n",
    "\n",
    "performance_measurement(pipeline, x_train, y_train)"
   ]
  },
  {
   "cell_type": "markdown",
   "metadata": {
    "colab_type": "text",
    "id": "80qAmThaWlDi"
   },
   "source": [
    "## Decision Tree"
   ]
  },
  {
   "cell_type": "code",
   "execution_count": 0,
   "metadata": {
    "colab": {
     "base_uri": "https://localhost:8080/",
     "height": 272
    },
    "colab_type": "code",
    "id": "v-DsODFRWjuN",
    "outputId": "3c418d27-e1d8-4d5f-c7c2-c1846d73e6da"
   },
   "outputs": [
    {
     "name": "stdout",
     "output_type": "stream",
     "text": [
      "-- Cross Validation --\n",
      "Accuracy of 1-fold: 92.76%\n",
      "Accuracy of 2-fold: 92.65%\n",
      "Accuracy of 3-fold: 93.14%\n",
      "Accuracy of 4-fold: 92.66%\n",
      "Accuracy of 5-fold: 92.97%\n",
      "Mean: 92.84\n",
      "Standard deviation: 0.1906\n",
      "\n",
      "-- Precision --\n",
      "Precision of 92.13%\n",
      "\n",
      "-- Confusion Matrix --\n",
      "[[16052  1358]\n",
      " [ 1107 15888]]\n"
     ]
    }
   ],
   "source": [
    "pipeline = Pipeline([('vect', CountVectorizer()),\n",
    "                     ('tfidf', TfidfTransformer()),\n",
    "                     ('model', DecisionTreeClassifier(\n",
    "                        criterion='entropy',\n",
    "                        max_depth = 10, \n",
    "                        splitter='best',\n",
    "                        random_state=RANDOM_STATE)\n",
    "                     )])\n",
    "\n",
    "performance_measurement(pipeline, x_train, y_train)"
   ]
  },
  {
   "cell_type": "markdown",
   "metadata": {
    "colab_type": "text",
    "id": "ywo25qrW4T1k"
   },
   "source": [
    "## Random Forest"
   ]
  },
  {
   "cell_type": "code",
   "execution_count": 0,
   "metadata": {
    "colab": {
     "base_uri": "https://localhost:8080/",
     "height": 272
    },
    "colab_type": "code",
    "id": "e61gUeNA4T1l",
    "outputId": "55db2ce1-e851-4fe7-f850-4ade1f4db460"
   },
   "outputs": [
    {
     "name": "stdout",
     "output_type": "stream",
     "text": [
      "-- Cross Validation --\n",
      "Accuracy of 1-fold: 97.14%\n",
      "Accuracy of 2-fold: 97.38%\n",
      "Accuracy of 3-fold: 97.5%\n",
      "Accuracy of 4-fold: 97.22%\n",
      "Accuracy of 5-fold: 97.2%\n",
      "Mean: 97.29\n",
      "Standard deviation: 0.134\n",
      "\n",
      "-- Precision --\n",
      "Precision of 97.46%\n",
      "\n",
      "-- Confusion Matrix --\n",
      "[[16980   430]\n",
      " [  503 16492]]\n"
     ]
    }
   ],
   "source": [
    "pipeline = Pipeline([('vect', CountVectorizer()),\n",
    "                     ('tfidf', TfidfTransformer()),\n",
    "                     ('model', RandomForestClassifier(random_state=RANDOM_STATE)\n",
    "                     )])\n",
    "\n",
    "performance_measurement(pipeline, x_train, y_train)"
   ]
  },
  {
   "cell_type": "markdown",
   "metadata": {
    "colab_type": "text",
    "collapsed": true,
    "id": "5KeJ6L9k4T1o"
   },
   "source": [
    "At this moment the Linear Support Vector Classifier, Stochastic Gradient Descent, and the Random Forest had the best results, so they will be fine-tuned to choose the best hyperparameters."
   ]
  },
  {
   "cell_type": "markdown",
   "metadata": {
    "colab_type": "text",
    "id": "KpDR1K1mXWL8"
   },
   "source": [
    "# Fine-Tune the models"
   ]
  },
  {
   "cell_type": "markdown",
   "metadata": {
    "colab_type": "text",
    "id": "OoV4r7-44T1p"
   },
   "source": [
    "## Grid Search"
   ]
  },
  {
   "cell_type": "code",
   "execution_count": 0,
   "metadata": {
    "colab": {},
    "colab_type": "code",
    "collapsed": true,
    "id": "7ooyfEKt4T1p"
   },
   "outputs": [],
   "source": [
    "svc_param_grid = [    \n",
    "    {'max_iter': [1000, 5000, 10000], 'C': [1, 1.5, 2],    \n",
    "    'loss': ['hinge', 'squared_hinge'], 'tol': [1e-5, 1e-4], \n",
    "    'random_state': [RANDOM_STATE]}\n",
    "]\n",
    "\n",
    "sgd_param_grid = [\n",
    "    {'learning_rate': ['optimal'], \n",
    "     'max_iter': [1000, 5000, 10000],\n",
    "     'alpha': [0.00001, 0.0001, 0.0003],\n",
    "     'loss': ['log', 'modified_huber', 'squared_hinge'],\n",
    "     'random_state': [RANDOM_STATE]}\n",
    "]\n",
    "\n",
    "rf_param_grid = [\n",
    "    {'max_depth': [None, 10], 'max_features': ['auto', 'log2'], \n",
    "     'criterion': ['entropy'],\n",
    "     'n_estimators': [500, 1000, 1500],\n",
    "     'random_state': [RANDOM_STATE]}\n",
    "]"
   ]
  },
  {
   "cell_type": "code",
   "execution_count": 0,
   "metadata": {
    "colab": {},
    "colab_type": "code",
    "collapsed": true,
    "id": "pj8_rRmT4T1s"
   },
   "outputs": [],
   "source": [
    "data_pipeline = Pipeline([('vect', CountVectorizer()),\n",
    "                     ('tfidf', TfidfTransformer())\n",
    "                    ])\n",
    "\n",
    "x_prepared = data_pipeline.fit_transform(x_train.values)"
   ]
  },
  {
   "cell_type": "markdown",
   "metadata": {
    "colab_type": "text",
    "id": "hZcRBYOk4T1w"
   },
   "source": [
    "### Linear Support Vector Classifier"
   ]
  },
  {
   "cell_type": "code",
   "execution_count": 0,
   "metadata": {
    "colab": {
     "base_uri": "https://localhost:8080/",
     "height": 255
    },
    "colab_type": "code",
    "id": "6-AfDpYW4T1x",
    "outputId": "b0b01ffc-21f5-43f0-bb68-f553bd33354f"
   },
   "outputs": [
    {
     "name": "stderr",
     "output_type": "stream",
     "text": [
      "/usr/local/lib/python3.6/dist-packages/sklearn/svm/_base.py:947: ConvergenceWarning: Liblinear failed to converge, increase the number of iterations.\n",
      "  \"the number of iterations.\", ConvergenceWarning)\n"
     ]
    },
    {
     "data": {
      "text/plain": [
       "GridSearchCV(cv=5, error_score=nan,\n",
       "             estimator=LinearSVC(C=1.0, class_weight=None, dual=True,\n",
       "                                 fit_intercept=True, intercept_scaling=1,\n",
       "                                 loss='squared_hinge', max_iter=1000,\n",
       "                                 multi_class='ovr', penalty='l2',\n",
       "                                 random_state=None, tol=0.0001, verbose=0),\n",
       "             iid='deprecated', n_jobs=None,\n",
       "             param_grid=[{'C': [1, 1.5, 2], 'loss': ['hinge', 'squared_hinge'],\n",
       "                          'max_iter': [1000, 5000, 10000], 'random_state': [42],\n",
       "                          'tol': [1e-05, 0.0001]}],\n",
       "             pre_dispatch='2*n_jobs', refit=True, return_train_score=True,\n",
       "             scoring='accuracy', verbose=0)"
      ]
     },
     "execution_count": 31,
     "metadata": {
      "tags": []
     },
     "output_type": "execute_result"
    }
   ],
   "source": [
    "model = LinearSVC()\n",
    "\n",
    "svc_grid_search = GridSearchCV(model, svc_param_grid, cv=5,\n",
    "                           scoring='accuracy',\n",
    "                           return_train_score=True)\n",
    "\n",
    "svc_grid_search.fit(x_prepared, y_train)"
   ]
  },
  {
   "cell_type": "code",
   "execution_count": 0,
   "metadata": {
    "colab": {
     "base_uri": "https://localhost:8080/",
     "height": 102
    },
    "colab_type": "code",
    "id": "p597wiqoQzZ7",
    "outputId": "2d4ee9ae-9be5-49fa-f16f-6d3a77913c9a"
   },
   "outputs": [
    {
     "data": {
      "text/plain": [
       "{'C': 1.5,\n",
       " 'loss': 'squared_hinge',\n",
       " 'max_iter': 1000,\n",
       " 'random_state': 42,\n",
       " 'tol': 1e-05}"
      ]
     },
     "execution_count": 32,
     "metadata": {
      "tags": []
     },
     "output_type": "execute_result"
    }
   ],
   "source": [
    "svc_grid_search.best_params_"
   ]
  },
  {
   "cell_type": "code",
   "execution_count": 0,
   "metadata": {
    "colab": {
     "base_uri": "https://localhost:8080/",
     "height": 85
    },
    "colab_type": "code",
    "id": "Xb2sRD34RdKb",
    "outputId": "0f4ef995-1fc6-4aca-881b-369b6330fca9"
   },
   "outputs": [
    {
     "data": {
      "text/plain": [
       "LinearSVC(C=1.5, class_weight=None, dual=True, fit_intercept=True,\n",
       "          intercept_scaling=1, loss='squared_hinge', max_iter=1000,\n",
       "          multi_class='ovr', penalty='l2', random_state=42, tol=1e-05,\n",
       "          verbose=0)"
      ]
     },
     "execution_count": 33,
     "metadata": {
      "tags": []
     },
     "output_type": "execute_result"
    }
   ],
   "source": [
    "svc_grid_search.best_estimator_"
   ]
  },
  {
   "cell_type": "code",
   "execution_count": 0,
   "metadata": {
    "colab": {
     "base_uri": "https://localhost:8080/",
     "height": 34
    },
    "colab_type": "code",
    "id": "kV9eCRRARjaJ",
    "outputId": "59a1d96a-9185-43e5-8d80-2a161f9c3f00"
   },
   "outputs": [
    {
     "data": {
      "text/plain": [
       "0.9892748147071646"
      ]
     },
     "execution_count": 34,
     "metadata": {
      "tags": []
     },
     "output_type": "execute_result"
    }
   ],
   "source": [
    "svc_grid_search.best_score_"
   ]
  },
  {
   "cell_type": "markdown",
   "metadata": {
    "colab_type": "text",
    "id": "c13rnRQw4T1z"
   },
   "source": [
    "## Stochastic Gradient Descent"
   ]
  },
  {
   "cell_type": "code",
   "execution_count": 0,
   "metadata": {
    "colab": {
     "base_uri": "https://localhost:8080/",
     "height": 394
    },
    "colab_type": "code",
    "id": "42_fJtPk4T10",
    "outputId": "94715f12-30fa-4c9b-faad-1e3f541a4173"
   },
   "outputs": [
    {
     "name": "stderr",
     "output_type": "stream",
     "text": [
      "/usr/local/lib/python3.6/dist-packages/sklearn/linear_model/_stochastic_gradient.py:557: ConvergenceWarning: Maximum number of iteration reached before convergence. Consider increasing max_iter to improve the fit.\n",
      "  ConvergenceWarning)\n"
     ]
    },
    {
     "data": {
      "text/plain": [
       "GridSearchCV(cv=5, error_score=nan,\n",
       "             estimator=SGDClassifier(alpha=0.0001, average=False,\n",
       "                                     class_weight=None, early_stopping=False,\n",
       "                                     epsilon=0.1, eta0=0.0, fit_intercept=True,\n",
       "                                     l1_ratio=0.15, learning_rate='optimal',\n",
       "                                     loss='hinge', max_iter=1000,\n",
       "                                     n_iter_no_change=5, n_jobs=None,\n",
       "                                     penalty='l2', power_t=0.5,\n",
       "                                     random_state=None, shuffle=True, tol=0.001,\n",
       "                                     validation_fraction=0.1, verbose=0,\n",
       "                                     warm_start=False),\n",
       "             iid='deprecated', n_jobs=None,\n",
       "             param_grid=[{'alpha': [1e-05, 0.0001, 0.0003],\n",
       "                          'learning_rate': ['optimal'],\n",
       "                          'loss': ['log', 'modified_huber', 'squared_hinge'],\n",
       "                          'max_iter': [1000, 5000, 10000],\n",
       "                          'random_state': [42]}],\n",
       "             pre_dispatch='2*n_jobs', refit=True, return_train_score=True,\n",
       "             scoring='accuracy', verbose=0)"
      ]
     },
     "execution_count": 38,
     "metadata": {
      "tags": []
     },
     "output_type": "execute_result"
    }
   ],
   "source": [
    "model = SGDClassifier()\n",
    "\n",
    "sgd_grid_search = GridSearchCV(model, sgd_param_grid, cv=5,\n",
    "                           scoring='accuracy',\n",
    "                           return_train_score=True)\n",
    "\n",
    "sgd_grid_search.fit(x_prepared, y_train)"
   ]
  },
  {
   "cell_type": "code",
   "execution_count": 0,
   "metadata": {
    "colab": {
     "base_uri": "https://localhost:8080/",
     "height": 102
    },
    "colab_type": "code",
    "id": "wToq-62X4T13",
    "outputId": "2b6c2766-c2b8-4f27-df79-315cf19fcfff"
   },
   "outputs": [
    {
     "data": {
      "text/plain": [
       "{'alpha': 1e-05,\n",
       " 'learning_rate': 'optimal',\n",
       " 'loss': 'modified_huber',\n",
       " 'max_iter': 1000,\n",
       " 'random_state': 42}"
      ]
     },
     "execution_count": 39,
     "metadata": {
      "tags": []
     },
     "output_type": "execute_result"
    }
   ],
   "source": [
    "sgd_grid_search.best_params_"
   ]
  },
  {
   "cell_type": "code",
   "execution_count": 0,
   "metadata": {
    "colab": {
     "base_uri": "https://localhost:8080/",
     "height": 119
    },
    "colab_type": "code",
    "id": "2kIQkaqOR3C2",
    "outputId": "1aa80e0f-1def-4cfb-8c01-63acb7580ce3"
   },
   "outputs": [
    {
     "data": {
      "text/plain": [
       "SGDClassifier(alpha=1e-05, average=False, class_weight=None,\n",
       "              early_stopping=False, epsilon=0.1, eta0=0.0, fit_intercept=True,\n",
       "              l1_ratio=0.15, learning_rate='optimal', loss='modified_huber',\n",
       "              max_iter=1000, n_iter_no_change=5, n_jobs=None, penalty='l2',\n",
       "              power_t=0.5, random_state=42, shuffle=True, tol=0.001,\n",
       "              validation_fraction=0.1, verbose=0, warm_start=False)"
      ]
     },
     "execution_count": 40,
     "metadata": {
      "tags": []
     },
     "output_type": "execute_result"
    }
   ],
   "source": [
    "sgd_grid_search.best_estimator_"
   ]
  },
  {
   "cell_type": "code",
   "execution_count": 0,
   "metadata": {
    "colab": {
     "base_uri": "https://localhost:8080/",
     "height": 34
    },
    "colab_type": "code",
    "id": "ZB0FCHBER5AA",
    "outputId": "89d499fe-4c3b-418d-e501-59542f82b84f"
   },
   "outputs": [
    {
     "data": {
      "text/plain": [
       "0.9887225693939834"
      ]
     },
     "execution_count": 41,
     "metadata": {
      "tags": []
     },
     "output_type": "execute_result"
    }
   ],
   "source": [
    "sgd_grid_search.best_score_"
   ]
  },
  {
   "cell_type": "markdown",
   "metadata": {
    "colab_type": "text",
    "id": "gU2iJ4P-ikOC"
   },
   "source": [
    "### Random Forest"
   ]
  },
  {
   "cell_type": "code",
   "execution_count": 21,
   "metadata": {
    "colab": {
     "base_uri": "https://localhost:8080/",
     "height": 408
    },
    "colab_type": "code",
    "id": "zQVHgm57ircz",
    "outputId": "ae7765cf-c2ba-4ffb-feb1-4d02412f7f98"
   },
   "outputs": [
    {
     "data": {
      "text/plain": [
       "GridSearchCV(cv=3, error_score=nan,\n",
       "             estimator=RandomForestClassifier(bootstrap=True, ccp_alpha=0.0,\n",
       "                                              class_weight=None,\n",
       "                                              criterion='gini', max_depth=None,\n",
       "                                              max_features='auto',\n",
       "                                              max_leaf_nodes=None,\n",
       "                                              max_samples=None,\n",
       "                                              min_impurity_decrease=0.0,\n",
       "                                              min_impurity_split=None,\n",
       "                                              min_samples_leaf=1,\n",
       "                                              min_samples_split=2,\n",
       "                                              min_weight_fraction_leaf=0.0,\n",
       "                                              n_estimators=100, n_jobs=None,\n",
       "                                              oob_score=False,\n",
       "                                              random_state=None, verbose=0,\n",
       "                                              warm_start=False),\n",
       "             iid='deprecated', n_jobs=None,\n",
       "             param_grid=[{'criterion': ['entropy'], 'max_depth': [None, 10],\n",
       "                          'max_features': ['auto', 'log2'],\n",
       "                          'n_estimators': [500, 1000, 1500],\n",
       "                          'random_state': [42]}],\n",
       "             pre_dispatch='2*n_jobs', refit=True, return_train_score=True,\n",
       "             scoring='accuracy', verbose=0)"
      ]
     },
     "execution_count": 21,
     "metadata": {
      "tags": []
     },
     "output_type": "execute_result"
    }
   ],
   "source": [
    "model = RandomForestClassifier()\n",
    "\n",
    "rf_grid_search = GridSearchCV(model, rf_param_grid, cv=3,\n",
    "                           scoring='accuracy',\n",
    "                           return_train_score=True)\n",
    "\n",
    "rf_grid_search.fit(x_prepared, y_train)"
   ]
  },
  {
   "cell_type": "code",
   "execution_count": 22,
   "metadata": {
    "colab": {
     "base_uri": "https://localhost:8080/",
     "height": 102
    },
    "colab_type": "code",
    "id": "77prpmSWkW0d",
    "outputId": "4e6c2966-5a31-417d-aa04-6b41b22e6dec"
   },
   "outputs": [
    {
     "data": {
      "text/plain": [
       "{'criterion': 'entropy',\n",
       " 'max_depth': None,\n",
       " 'max_features': 'auto',\n",
       " 'n_estimators': 1500,\n",
       " 'random_state': 42}"
      ]
     },
     "execution_count": 22,
     "metadata": {
      "tags": []
     },
     "output_type": "execute_result"
    }
   ],
   "source": [
    "rf_grid_search.best_params_"
   ]
  },
  {
   "cell_type": "code",
   "execution_count": 23,
   "metadata": {
    "colab": {
     "base_uri": "https://localhost:8080/",
     "height": 153
    },
    "colab_type": "code",
    "id": "mHK9E0IzkYoZ",
    "outputId": "f11292d0-cf53-452c-8994-e4894b9652db"
   },
   "outputs": [
    {
     "data": {
      "text/plain": [
       "RandomForestClassifier(bootstrap=True, ccp_alpha=0.0, class_weight=None,\n",
       "                       criterion='entropy', max_depth=None, max_features='auto',\n",
       "                       max_leaf_nodes=None, max_samples=None,\n",
       "                       min_impurity_decrease=0.0, min_impurity_split=None,\n",
       "                       min_samples_leaf=1, min_samples_split=2,\n",
       "                       min_weight_fraction_leaf=0.0, n_estimators=1500,\n",
       "                       n_jobs=None, oob_score=False, random_state=42, verbose=0,\n",
       "                       warm_start=False)"
      ]
     },
     "execution_count": 23,
     "metadata": {
      "tags": []
     },
     "output_type": "execute_result"
    }
   ],
   "source": [
    "rf_grid_search.best_estimator_"
   ]
  },
  {
   "cell_type": "code",
   "execution_count": 24,
   "metadata": {
    "colab": {
     "base_uri": "https://localhost:8080/",
     "height": 34
    },
    "colab_type": "code",
    "id": "ahgWtAv1kbTZ",
    "outputId": "405443c6-6c20-485e-f9dd-29498c7924bb"
   },
   "outputs": [
    {
     "data": {
      "text/plain": [
       "0.9743351096142668"
      ]
     },
     "execution_count": 24,
     "metadata": {
      "tags": []
     },
     "output_type": "execute_result"
    }
   ],
   "source": [
    "rf_grid_search.best_score_"
   ]
  },
  {
   "cell_type": "markdown",
   "metadata": {
    "colab_type": "text",
    "id": "Tpgj3YEIX1sA"
   },
   "source": [
    "# Ensembling the models"
   ]
  },
  {
   "cell_type": "markdown",
   "metadata": {
    "colab_type": "text",
    "id": "GmO9r9avgCIv"
   },
   "source": [
    "As we found the best hyperparameters, let's ensemble the models in a voting classifier and compare the results on a last evaluation using the test set."
   ]
  },
  {
   "cell_type": "markdown",
   "metadata": {
    "colab_type": "text",
    "id": "r88_c8jyYI-l"
   },
   "source": [
    "## Voting Classifier"
   ]
  },
  {
   "cell_type": "code",
   "execution_count": 0,
   "metadata": {
    "colab": {},
    "colab_type": "code",
    "collapsed": true,
    "id": "8zhO5WIOY0YV"
   },
   "outputs": [],
   "source": [
    "# classifiers with the best parameters\n",
    "\n",
    "# --- SVC ---\n",
    "svc_clf = LinearSVC(C=1.5, class_weight=None, dual=True, fit_intercept=True,\n",
    "          intercept_scaling=1, loss='squared_hinge', max_iter=1000,\n",
    "          multi_class='ovr', penalty='l2', tol=1e-05, random_state=42)\n",
    "\n",
    "# need to use a calibration over linear svc in order to make it a probabilistic classifier\n",
    "calibrated_svc_clf = CalibratedClassifierCV(svc_clf, method='sigmoid', cv=5) \n",
    "\n",
    "svc_pipeline = Pipeline([('vect', CountVectorizer()),\n",
    "                         ('tfidf', TfidfTransformer()),\n",
    "                         ('model', calibrated_svc_clf)])\n",
    "\n",
    "# --- SGD ---\n",
    "sgd_clf = SGDClassifier(alpha=1e-05, average=False, class_weight=None,\n",
    "              early_stopping=False, epsilon=0.1, eta0=0.0, fit_intercept=True,\n",
    "              l1_ratio=0.15, learning_rate='optimal', loss='modified_huber',\n",
    "              max_iter=1000, n_iter_no_change=5, n_jobs=None, penalty='l2',\n",
    "              power_t=0.5, random_state=42, shuffle=True, tol=0.001,\n",
    "              validation_fraction=0.1, verbose=0, warm_start=False)\n",
    "\n",
    "sgd_pipeline = Pipeline([('vect', CountVectorizer()),\n",
    "                         ('tfidf', TfidfTransformer()),\n",
    "                         ('model', sgd_clf)])\n",
    "\n",
    "# --- Random Forest ---\n",
    "rf_clf = RandomForestClassifier(bootstrap=True, ccp_alpha=0.0, class_weight=None,\n",
    "                       criterion='entropy', max_depth=None, max_features='auto',\n",
    "                       max_leaf_nodes=None, max_samples=None,\n",
    "                       min_impurity_decrease=0.0, min_impurity_split=None,\n",
    "                       min_samples_leaf=1, min_samples_split=2,\n",
    "                       min_weight_fraction_leaf=0.0, n_estimators=1500,\n",
    "                       n_jobs=None, oob_score=False, random_state=42, verbose=0,\n",
    "                       warm_start=False)\n",
    "\n",
    "rf_pipeline = Pipeline([('vect', CountVectorizer()),\n",
    "                         ('tfidf', TfidfTransformer()),\n",
    "                         ('model', rf_clf)])\n",
    "\n",
    "# --- Voting ---\n",
    "voting_clf = VotingClassifier(\n",
    "        estimators = [('sgd', sgd_clf), ('svc', calibrated_svc_clf), ('rf', rf_clf)],    \n",
    "        voting='soft') \n",
    "\n",
    "voting_pipeline = Pipeline([('vect', CountVectorizer()),\n",
    "                            ('tfidf', TfidfTransformer()),\n",
    "                            ('model', voting_clf)])"
   ]
  },
  {
   "cell_type": "markdown",
   "metadata": {
    "colab_type": "text",
    "id": "RldMqrwKpB_K"
   },
   "source": [
    "## Final Measurement"
   ]
  },
  {
   "cell_type": "code",
   "execution_count": 28,
   "metadata": {
    "colab": {
     "base_uri": "https://localhost:8080/",
     "height": 85
    },
    "colab_type": "code",
    "id": "0MuuFaO5r-Mz",
    "outputId": "3209a490-6cb5-40e7-ea9b-0e98cb0dcf66"
   },
   "outputs": [
    {
     "name": "stdout",
     "output_type": "stream",
     "text": [
      "Linear SVC done.\n",
      "Random Forest done.\n",
      "SGD done.\n",
      "Voting Classifier done.\n"
     ]
    }
   ],
   "source": [
    "svc_pipeline.fit(x_train, y_train)\n",
    "print('Linear SVC done.')\n",
    "rf_pipeline.fit(x_train, y_train)\n",
    "print('Random Forest done.')\n",
    "sgd_pipeline.fit(x_train, y_train)\n",
    "print('SGD done.')\n",
    "voting_pipeline.fit(x_train, y_train)\n",
    "print('Voting Classifier done.')"
   ]
  },
  {
   "cell_type": "code",
   "execution_count": null,
   "metadata": {
    "colab": {
     "base_uri": "https://localhost:8080/",
     "height": 34
    },
    "colab_type": "code",
    "id": "JDLRv61ZEEeP",
    "outputId": "fd92e7cd-de37-4312-cb53-11d4cab67b9e"
   },
   "outputs": [],
   "source": [
    "joblib.dump(svc_pipeline, PATH + 'models/FakeNews/svc_model.pkl', compress=9)\n",
    "joblib.dump(sgd_pipeline, PATH + 'models/FakeNews/sgd_model.pkl', compress=9)\n",
    "joblib.dump(rf_pipeline, PATH + 'models/FakeNews/rf_model.pkl', compress=9)\n",
    "joblib.dump(voting_pipeline, PATH + 'models/FakeNews/voting_model.pkl', compress=9)"
   ]
  },
  {
   "cell_type": "code",
   "execution_count": 0,
   "metadata": {
    "colab": {},
    "colab_type": "code",
    "collapsed": true,
    "id": "ISz2CNRhSTnt"
   },
   "outputs": [],
   "source": [
    "svc_pipeline = joblib.load(PATH + 'models/FakeNews/svc_model.pkl')\n",
    "sgd_pipeline = joblib.load(PATH + 'models/FakeNews/xgb_model.pkl')\n",
    "rf_pipeline = joblib.load(PATH + 'models/FakeNews/dt_model.pkl')\n",
    "voting_pipeline = joblib.load(PATH + 'models/FakeNews/voting_model.pkl')"
   ]
  },
  {
   "cell_type": "code",
   "execution_count": 0,
   "metadata": {
    "colab": {},
    "colab_type": "code",
    "collapsed": true,
    "id": "DSsy3OU9rFvB"
   },
   "outputs": [],
   "source": [
    "sgd_pred = sgd_pipeline.predict(x_test)\n",
    "svc_pred = svc_pipeline.predict(x_test)\n",
    "rf_pred = rf_pipeline.predict(x_test)\n",
    "voting_pred = voting_pipeline.predict(x_test)"
   ]
  },
  {
   "cell_type": "code",
   "execution_count": 41,
   "metadata": {
    "colab": {
     "base_uri": "https://localhost:8080/",
     "height": 85
    },
    "colab_type": "code",
    "id": "hxXtDtanriJ_",
    "outputId": "d9e40ff8-3450-482f-8f47-e9891f84e8c3"
   },
   "outputs": [
    {
     "name": "stdout",
     "output_type": "stream",
     "text": [
      "Accuracy for Stochastic Gradient Descent Model: 99.17\n",
      "Accuracy for SVC Model: 99.04\n",
      "Accuracy for Random Forest Model: 97.94\n",
      "Accuracy for Voting Classifier Model: 99.27\n"
     ]
    }
   ],
   "source": [
    "print(\"Accuracy for Stochastic Gradient Descent Model: %.2f\" % (accuracy_score(y_test, sgd_pred) * 100))\n",
    "print(\"Accuracy for SVC Model: %.2f\" % (accuracy_score(y_test, svc_pred) * 100))\n",
    "print(\"Accuracy for Random Forest Model: %.2f\" % (accuracy_score(y_test, rf_pred) * 100))\n",
    "print(\"Accuracy for Voting Classifier Model: %.2f\" % (accuracy_score(y_test, voting_pred) * 100))"
   ]
  },
  {
   "cell_type": "markdown",
   "metadata": {
    "colab_type": "text",
    "id": "kvlISrUZWPte"
   },
   "source": [
    "As expected the voting classifier has the best accuracy between the models, so he is the best choice to classify fake news."
   ]
  }
 ],
 "metadata": {
  "colab": {
   "name": "fakeNewsClassifier.ipynb",
   "provenance": []
  },
  "kernelspec": {
   "display_name": "Python 3",
   "language": "python",
   "name": "python3"
  },
  "language_info": {
   "codemirror_mode": {
    "name": "ipython",
    "version": 3
   },
   "file_extension": ".py",
   "mimetype": "text/x-python",
   "name": "python",
   "nbconvert_exporter": "python",
   "pygments_lexer": "ipython3",
   "version": "3.6.10"
  }
 },
 "nbformat": 4,
 "nbformat_minor": 1
}
