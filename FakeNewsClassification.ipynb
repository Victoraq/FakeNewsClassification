{
  "nbformat": 4,
  "nbformat_minor": 0,
  "metadata": {
    "kernelspec": {
      "display_name": "Python 3",
      "language": "python",
      "name": "python3"
    },
    "language_info": {
      "codemirror_mode": {
        "name": "ipython",
        "version": 3
      },
      "file_extension": ".py",
      "mimetype": "text/x-python",
      "name": "python",
      "nbconvert_exporter": "python",
      "pygments_lexer": "ipython3",
      "version": "3.6.10"
    },
    "colab": {
      "name": "fakeNewsClassifier.ipynb",
      "provenance": []
    }
  },
  "cells": [
    {
      "cell_type": "code",
      "metadata": {
        "id": "3Pfh_Efu4T0C",
        "colab_type": "code",
        "colab": {}
      },
      "source": [
        "# auxiliar libraries\n",
        "import pandas as pd\n",
        "import re\n",
        "import joblib\n",
        "from sklearn.feature_extraction.text import CountVectorizer, TfidfTransformer\n",
        "from sklearn.metrics import accuracy_score, precision_score, confusion_matrix\n",
        "from sklearn.model_selection import train_test_split, cross_val_score, cross_val_predict, GridSearchCV\n",
        "from sklearn.pipeline import Pipeline\n",
        "\n",
        "# models\n",
        "from sklearn.linear_model import LogisticRegression, SGDClassifier\n",
        "from sklearn.calibration import CalibratedClassifierCV\n",
        "from sklearn.svm import LinearSVC, SVC\n",
        "from xgboost import XGBClassifier\n",
        "from sklearn.tree import DecisionTreeClassifier\n",
        "from sklearn.ensemble import RandomForestClassifier, VotingClassifier\n",
        "\n",
        "PATH = './drive/My Drive/Colab Notebooks/' # <--- Change this"
      ],
      "execution_count": 0,
      "outputs": []
    },
    {
      "cell_type": "code",
      "metadata": {
        "id": "l72ngiP2e1aD",
        "colab_type": "code",
        "outputId": "a0822fcd-a0f4-4c23-e567-17788be14c37",
        "colab": {
          "base_uri": "https://localhost:8080/",
          "height": 122
        }
      },
      "source": [
        "from google.colab import drive\n",
        "drive.mount('/content/drive')"
      ],
      "execution_count": 2,
      "outputs": [
        {
          "output_type": "stream",
          "text": [
            "Go to this URL in a browser: https://accounts.google.com/o/oauth2/auth?client_id=947318989803-6bn6qk8qdgf4n4g3pfee6491hc0brc4i.apps.googleusercontent.com&redirect_uri=urn%3aietf%3awg%3aoauth%3a2.0%3aoob&response_type=code&scope=email%20https%3a%2f%2fwww.googleapis.com%2fauth%2fdocs.test%20https%3a%2f%2fwww.googleapis.com%2fauth%2fdrive%20https%3a%2f%2fwww.googleapis.com%2fauth%2fdrive.photos.readonly%20https%3a%2f%2fwww.googleapis.com%2fauth%2fpeopleapi.readonly\n",
            "\n",
            "Enter your authorization code:\n",
            "··········\n",
            "Mounted at /content/drive\n"
          ],
          "name": "stdout"
        }
      ]
    },
    {
      "cell_type": "code",
      "metadata": {
        "id": "eUjyZCFn4T0I",
        "colab_type": "code",
        "colab": {}
      },
      "source": [
        "trueNews = pd.read_csv(PATH + 'datasets/FakeNews/True.csv')\n",
        "fakeNews = pd.read_csv(PATH + 'datasets/FakeNews/Fake.csv')"
      ],
      "execution_count": 0,
      "outputs": []
    },
    {
      "cell_type": "code",
      "metadata": {
        "id": "Zxb6Vr-X4T0M",
        "colab_type": "code",
        "outputId": "08e2ae6e-b3af-4bf6-9d24-974c55a8d78f",
        "colab": {
          "base_uri": "https://localhost:8080/",
          "height": 204
        }
      },
      "source": [
        "trueNews.head()"
      ],
      "execution_count": 4,
      "outputs": [
        {
          "output_type": "execute_result",
          "data": {
            "text/html": [
              "<div>\n",
              "<style scoped>\n",
              "    .dataframe tbody tr th:only-of-type {\n",
              "        vertical-align: middle;\n",
              "    }\n",
              "\n",
              "    .dataframe tbody tr th {\n",
              "        vertical-align: top;\n",
              "    }\n",
              "\n",
              "    .dataframe thead th {\n",
              "        text-align: right;\n",
              "    }\n",
              "</style>\n",
              "<table border=\"1\" class=\"dataframe\">\n",
              "  <thead>\n",
              "    <tr style=\"text-align: right;\">\n",
              "      <th></th>\n",
              "      <th>title</th>\n",
              "      <th>text</th>\n",
              "      <th>subject</th>\n",
              "      <th>date</th>\n",
              "    </tr>\n",
              "  </thead>\n",
              "  <tbody>\n",
              "    <tr>\n",
              "      <th>0</th>\n",
              "      <td>As U.S. budget fight looms, Republicans flip t...</td>\n",
              "      <td>WASHINGTON (Reuters) - The head of a conservat...</td>\n",
              "      <td>politicsNews</td>\n",
              "      <td>December 31, 2017</td>\n",
              "    </tr>\n",
              "    <tr>\n",
              "      <th>1</th>\n",
              "      <td>U.S. military to accept transgender recruits o...</td>\n",
              "      <td>WASHINGTON (Reuters) - Transgender people will...</td>\n",
              "      <td>politicsNews</td>\n",
              "      <td>December 29, 2017</td>\n",
              "    </tr>\n",
              "    <tr>\n",
              "      <th>2</th>\n",
              "      <td>Senior U.S. Republican senator: 'Let Mr. Muell...</td>\n",
              "      <td>WASHINGTON (Reuters) - The special counsel inv...</td>\n",
              "      <td>politicsNews</td>\n",
              "      <td>December 31, 2017</td>\n",
              "    </tr>\n",
              "    <tr>\n",
              "      <th>3</th>\n",
              "      <td>FBI Russia probe helped by Australian diplomat...</td>\n",
              "      <td>WASHINGTON (Reuters) - Trump campaign adviser ...</td>\n",
              "      <td>politicsNews</td>\n",
              "      <td>December 30, 2017</td>\n",
              "    </tr>\n",
              "    <tr>\n",
              "      <th>4</th>\n",
              "      <td>Trump wants Postal Service to charge 'much mor...</td>\n",
              "      <td>SEATTLE/WASHINGTON (Reuters) - President Donal...</td>\n",
              "      <td>politicsNews</td>\n",
              "      <td>December 29, 2017</td>\n",
              "    </tr>\n",
              "  </tbody>\n",
              "</table>\n",
              "</div>"
            ],
            "text/plain": [
              "                                               title  ...                date\n",
              "0  As U.S. budget fight looms, Republicans flip t...  ...  December 31, 2017 \n",
              "1  U.S. military to accept transgender recruits o...  ...  December 29, 2017 \n",
              "2  Senior U.S. Republican senator: 'Let Mr. Muell...  ...  December 31, 2017 \n",
              "3  FBI Russia probe helped by Australian diplomat...  ...  December 30, 2017 \n",
              "4  Trump wants Postal Service to charge 'much mor...  ...  December 29, 2017 \n",
              "\n",
              "[5 rows x 4 columns]"
            ]
          },
          "metadata": {
            "tags": []
          },
          "execution_count": 4
        }
      ]
    },
    {
      "cell_type": "code",
      "metadata": {
        "id": "Pjv2rPOD4T0R",
        "colab_type": "code",
        "outputId": "6ff65616-f549-4011-c48d-f845eb0e5beb",
        "colab": {
          "base_uri": "https://localhost:8080/",
          "height": 204
        }
      },
      "source": [
        "fakeNews.head()"
      ],
      "execution_count": 5,
      "outputs": [
        {
          "output_type": "execute_result",
          "data": {
            "text/html": [
              "<div>\n",
              "<style scoped>\n",
              "    .dataframe tbody tr th:only-of-type {\n",
              "        vertical-align: middle;\n",
              "    }\n",
              "\n",
              "    .dataframe tbody tr th {\n",
              "        vertical-align: top;\n",
              "    }\n",
              "\n",
              "    .dataframe thead th {\n",
              "        text-align: right;\n",
              "    }\n",
              "</style>\n",
              "<table border=\"1\" class=\"dataframe\">\n",
              "  <thead>\n",
              "    <tr style=\"text-align: right;\">\n",
              "      <th></th>\n",
              "      <th>title</th>\n",
              "      <th>text</th>\n",
              "      <th>subject</th>\n",
              "      <th>date</th>\n",
              "    </tr>\n",
              "  </thead>\n",
              "  <tbody>\n",
              "    <tr>\n",
              "      <th>0</th>\n",
              "      <td>Donald Trump Sends Out Embarrassing New Year’...</td>\n",
              "      <td>Donald Trump just couldn t wish all Americans ...</td>\n",
              "      <td>News</td>\n",
              "      <td>December 31, 2017</td>\n",
              "    </tr>\n",
              "    <tr>\n",
              "      <th>1</th>\n",
              "      <td>Drunk Bragging Trump Staffer Started Russian ...</td>\n",
              "      <td>House Intelligence Committee Chairman Devin Nu...</td>\n",
              "      <td>News</td>\n",
              "      <td>December 31, 2017</td>\n",
              "    </tr>\n",
              "    <tr>\n",
              "      <th>2</th>\n",
              "      <td>Sheriff David Clarke Becomes An Internet Joke...</td>\n",
              "      <td>On Friday, it was revealed that former Milwauk...</td>\n",
              "      <td>News</td>\n",
              "      <td>December 30, 2017</td>\n",
              "    </tr>\n",
              "    <tr>\n",
              "      <th>3</th>\n",
              "      <td>Trump Is So Obsessed He Even Has Obama’s Name...</td>\n",
              "      <td>On Christmas day, Donald Trump announced that ...</td>\n",
              "      <td>News</td>\n",
              "      <td>December 29, 2017</td>\n",
              "    </tr>\n",
              "    <tr>\n",
              "      <th>4</th>\n",
              "      <td>Pope Francis Just Called Out Donald Trump Dur...</td>\n",
              "      <td>Pope Francis used his annual Christmas Day mes...</td>\n",
              "      <td>News</td>\n",
              "      <td>December 25, 2017</td>\n",
              "    </tr>\n",
              "  </tbody>\n",
              "</table>\n",
              "</div>"
            ],
            "text/plain": [
              "                                               title  ...               date\n",
              "0   Donald Trump Sends Out Embarrassing New Year’...  ...  December 31, 2017\n",
              "1   Drunk Bragging Trump Staffer Started Russian ...  ...  December 31, 2017\n",
              "2   Sheriff David Clarke Becomes An Internet Joke...  ...  December 30, 2017\n",
              "3   Trump Is So Obsessed He Even Has Obama’s Name...  ...  December 29, 2017\n",
              "4   Pope Francis Just Called Out Donald Trump Dur...  ...  December 25, 2017\n",
              "\n",
              "[5 rows x 4 columns]"
            ]
          },
          "metadata": {
            "tags": []
          },
          "execution_count": 5
        }
      ]
    },
    {
      "cell_type": "markdown",
      "metadata": {
        "id": "qv2UQzVG4T0V",
        "colab_type": "text"
      },
      "source": [
        "Subjects inside each dataset"
      ]
    },
    {
      "cell_type": "code",
      "metadata": {
        "id": "c3_7r-wk4T0W",
        "colab_type": "code",
        "outputId": "1ab913fb-836e-4900-eb9e-44b1d2b498b2",
        "colab": {
          "base_uri": "https://localhost:8080/",
          "height": 34
        }
      },
      "source": [
        "trueNews.subject.unique()"
      ],
      "execution_count": 6,
      "outputs": [
        {
          "output_type": "execute_result",
          "data": {
            "text/plain": [
              "array(['politicsNews', 'worldnews'], dtype=object)"
            ]
          },
          "metadata": {
            "tags": []
          },
          "execution_count": 6
        }
      ]
    },
    {
      "cell_type": "code",
      "metadata": {
        "id": "0Xj185ml4T0a",
        "colab_type": "code",
        "outputId": "72354a8e-f12e-401f-8633-50727e3528e9",
        "colab": {
          "base_uri": "https://localhost:8080/",
          "height": 51
        }
      },
      "source": [
        "fakeNews.subject.unique()"
      ],
      "execution_count": 7,
      "outputs": [
        {
          "output_type": "execute_result",
          "data": {
            "text/plain": [
              "array(['News', 'politics', 'Government News', 'left-news', 'US_News',\n",
              "       'Middle-east'], dtype=object)"
            ]
          },
          "metadata": {
            "tags": []
          },
          "execution_count": 7
        }
      ]
    },
    {
      "cell_type": "markdown",
      "metadata": {
        "id": "yJ9IPWeN4T0e",
        "colab_type": "text"
      },
      "source": [
        "### Looking for nan or null values to drop"
      ]
    },
    {
      "cell_type": "code",
      "metadata": {
        "id": "F7cSiR6h4T0f",
        "colab_type": "code",
        "outputId": "749cb8ae-30ea-4ae2-f466-4b5d0b0e1654",
        "colab": {
          "base_uri": "https://localhost:8080/",
          "height": 102
        }
      },
      "source": [
        "trueNews.isnull().sum()"
      ],
      "execution_count": 8,
      "outputs": [
        {
          "output_type": "execute_result",
          "data": {
            "text/plain": [
              "title      0\n",
              "text       0\n",
              "subject    0\n",
              "date       0\n",
              "dtype: int64"
            ]
          },
          "metadata": {
            "tags": []
          },
          "execution_count": 8
        }
      ]
    },
    {
      "cell_type": "code",
      "metadata": {
        "id": "oSfcX7mI4T0j",
        "colab_type": "code",
        "outputId": "cb3cfe92-b7ee-45de-a360-37f97bf07527",
        "colab": {
          "base_uri": "https://localhost:8080/",
          "height": 102
        }
      },
      "source": [
        "fakeNews.isnull().sum()"
      ],
      "execution_count": 9,
      "outputs": [
        {
          "output_type": "execute_result",
          "data": {
            "text/plain": [
              "title      0\n",
              "text       0\n",
              "subject    0\n",
              "date       0\n",
              "dtype: int64"
            ]
          },
          "metadata": {
            "tags": []
          },
          "execution_count": 9
        }
      ]
    },
    {
      "cell_type": "markdown",
      "metadata": {
        "collapsed": true,
        "id": "OjbvBHQg4T0n",
        "colab_type": "text"
      },
      "source": [
        "The datasets does not have any null value"
      ]
    },
    {
      "cell_type": "markdown",
      "metadata": {
        "id": "QekNRZsk4T0n",
        "colab_type": "text"
      },
      "source": [
        "### Avaliating the text size"
      ]
    },
    {
      "cell_type": "code",
      "metadata": {
        "id": "WTGfXqyy4T0o",
        "colab_type": "code",
        "colab": {}
      },
      "source": [
        "true_len = trueNews.text.apply(lambda x: len(x))\n",
        "fake_len = fakeNews.text.apply(lambda x: len(x))"
      ],
      "execution_count": 0,
      "outputs": []
    },
    {
      "cell_type": "code",
      "metadata": {
        "scrolled": true,
        "id": "i_AgTF-J4T0s",
        "colab_type": "code",
        "outputId": "5424f1e0-1f9f-46bb-c64d-21b2ac2f0952",
        "colab": {
          "base_uri": "https://localhost:8080/",
          "height": 221
        }
      },
      "source": [
        "print(true_len.quantile([.01, .25, .5, .75, .99]))\n",
        "print(fake_len.quantile([.01, .25, .5, .75, .99]))"
      ],
      "execution_count": 11,
      "outputs": [
        {
          "output_type": "stream",
          "text": [
            "0.01     277.00\n",
            "0.25     914.00\n",
            "0.50    2222.00\n",
            "0.75    3237.00\n",
            "0.99    7097.52\n",
            "Name: text, dtype: float64\n",
            "0.01        1.0\n",
            "0.25     1433.0\n",
            "0.50     2166.0\n",
            "0.75     3032.0\n",
            "0.99    11827.0\n",
            "Name: text, dtype: float64\n"
          ],
          "name": "stdout"
        }
      ]
    },
    {
      "cell_type": "markdown",
      "metadata": {
        "id": "ralYGhr34T0v",
        "colab_type": "text"
      },
      "source": [
        "As could be seen in the quantiles, the datasets contains really short texts that must be dropped."
      ]
    },
    {
      "cell_type": "code",
      "metadata": {
        "id": "-x2U03aG4T0w",
        "colab_type": "code",
        "outputId": "a4808e84-da6c-4d57-8f4f-e9ed8f7c3e31",
        "colab": {
          "base_uri": "https://localhost:8080/",
          "height": 34
        }
      },
      "source": [
        "trueNews['text_length'] = true_len\n",
        "fakeNews['text_length'] = fake_len\n",
        "\n",
        "trueNews = trueNews[trueNews['text_length'] >= 250]\n",
        "fakeNews = fakeNews[fakeNews['text_length'] >= 250]\n",
        "\n",
        "trueNews.drop('text_length', axis=1, inplace=True)\n",
        "fakeNews.drop('text_length', axis=1, inplace=True)\n",
        "\n",
        "print(len(trueNews), len(fakeNews))"
      ],
      "execution_count": 12,
      "outputs": [
        {
          "output_type": "stream",
          "text": [
            "21283 21724\n"
          ],
          "name": "stdout"
        }
      ]
    },
    {
      "cell_type": "markdown",
      "metadata": {
        "id": "5AF2W_RC4T0-",
        "colab_type": "text"
      },
      "source": [
        "The punctuation count quantiles does not show a significant diference between them, so they will be not considered as features"
      ]
    },
    {
      "cell_type": "markdown",
      "metadata": {
        "id": "X1QVbamh4T0_",
        "colab_type": "text"
      },
      "source": [
        "### Removing urls"
      ]
    },
    {
      "cell_type": "code",
      "metadata": {
        "id": "BmBc_Vtv4T1A",
        "colab_type": "code",
        "colab": {}
      },
      "source": [
        "def remove_URL(text):\n",
        "    url = re.compile(r'https?://\\S+|www\\.\\S+')\n",
        "    return url.sub(r'',text)\n",
        "\n",
        "trueNews.text = trueNews.text.apply(remove_URL)\n",
        "fakeNews.text = fakeNews.text.apply(remove_URL)"
      ],
      "execution_count": 0,
      "outputs": []
    },
    {
      "cell_type": "markdown",
      "metadata": {
        "id": "HpwT4JsF4T1E",
        "colab_type": "text"
      },
      "source": [
        "### Merging the datasets"
      ]
    },
    {
      "cell_type": "code",
      "metadata": {
        "id": "lB40E5dR4T1E",
        "colab_type": "code",
        "colab": {}
      },
      "source": [
        "trueNews['target'] = 'true'\n",
        "fakeNews['target'] = 'fake'\n",
        "\n",
        "columns = ['title', 'text', 'target']\n",
        "df = pd.concat([trueNews[columns], fakeNews[columns]]).reset_index(drop = True)"
      ],
      "execution_count": 0,
      "outputs": []
    },
    {
      "cell_type": "code",
      "metadata": {
        "id": "nDmTfL0D4T1I",
        "colab_type": "code",
        "outputId": "b4f10c8c-ba9c-49a2-8633-33f140d36099",
        "colab": {
          "base_uri": "https://localhost:8080/",
          "height": 204
        }
      },
      "source": [
        "df.head()"
      ],
      "execution_count": 15,
      "outputs": [
        {
          "output_type": "execute_result",
          "data": {
            "text/html": [
              "<div>\n",
              "<style scoped>\n",
              "    .dataframe tbody tr th:only-of-type {\n",
              "        vertical-align: middle;\n",
              "    }\n",
              "\n",
              "    .dataframe tbody tr th {\n",
              "        vertical-align: top;\n",
              "    }\n",
              "\n",
              "    .dataframe thead th {\n",
              "        text-align: right;\n",
              "    }\n",
              "</style>\n",
              "<table border=\"1\" class=\"dataframe\">\n",
              "  <thead>\n",
              "    <tr style=\"text-align: right;\">\n",
              "      <th></th>\n",
              "      <th>title</th>\n",
              "      <th>text</th>\n",
              "      <th>target</th>\n",
              "    </tr>\n",
              "  </thead>\n",
              "  <tbody>\n",
              "    <tr>\n",
              "      <th>0</th>\n",
              "      <td>As U.S. budget fight looms, Republicans flip t...</td>\n",
              "      <td>WASHINGTON (Reuters) - The head of a conservat...</td>\n",
              "      <td>true</td>\n",
              "    </tr>\n",
              "    <tr>\n",
              "      <th>1</th>\n",
              "      <td>U.S. military to accept transgender recruits o...</td>\n",
              "      <td>WASHINGTON (Reuters) - Transgender people will...</td>\n",
              "      <td>true</td>\n",
              "    </tr>\n",
              "    <tr>\n",
              "      <th>2</th>\n",
              "      <td>Senior U.S. Republican senator: 'Let Mr. Muell...</td>\n",
              "      <td>WASHINGTON (Reuters) - The special counsel inv...</td>\n",
              "      <td>true</td>\n",
              "    </tr>\n",
              "    <tr>\n",
              "      <th>3</th>\n",
              "      <td>FBI Russia probe helped by Australian diplomat...</td>\n",
              "      <td>WASHINGTON (Reuters) - Trump campaign adviser ...</td>\n",
              "      <td>true</td>\n",
              "    </tr>\n",
              "    <tr>\n",
              "      <th>4</th>\n",
              "      <td>Trump wants Postal Service to charge 'much mor...</td>\n",
              "      <td>SEATTLE/WASHINGTON (Reuters) - President Donal...</td>\n",
              "      <td>true</td>\n",
              "    </tr>\n",
              "  </tbody>\n",
              "</table>\n",
              "</div>"
            ],
            "text/plain": [
              "                                               title  ... target\n",
              "0  As U.S. budget fight looms, Republicans flip t...  ...   true\n",
              "1  U.S. military to accept transgender recruits o...  ...   true\n",
              "2  Senior U.S. Republican senator: 'Let Mr. Muell...  ...   true\n",
              "3  FBI Russia probe helped by Australian diplomat...  ...   true\n",
              "4  Trump wants Postal Service to charge 'much mor...  ...   true\n",
              "\n",
              "[5 rows x 3 columns]"
            ]
          },
          "metadata": {
            "tags": []
          },
          "execution_count": 15
        }
      ]
    },
    {
      "cell_type": "markdown",
      "metadata": {
        "id": "qo9P5g_1eV7j",
        "colab_type": "text"
      },
      "source": [
        "Splitting the datasets"
      ]
    },
    {
      "cell_type": "code",
      "metadata": {
        "id": "mVOXlh9y4T1R",
        "colab_type": "code",
        "colab": {}
      },
      "source": [
        "RANDOM_STATE = 42\n",
        "x_train, x_test, y_train, y_test = train_test_split(df['text'], df.target, test_size=0.2, shuffle=True, random_state=RANDOM_STATE)"
      ],
      "execution_count": 0,
      "outputs": []
    },
    {
      "cell_type": "markdown",
      "metadata": {
        "collapsed": true,
        "id": "oA6RI3Qn4T1M",
        "colab_type": "text"
      },
      "source": [
        "# Evaluating models"
      ]
    },
    {
      "cell_type": "markdown",
      "metadata": {
        "id": "NFfnP42e4T1M",
        "colab_type": "text"
      },
      "source": [
        "In this section, will be evaluated several machine learning models with cross-validation to find a shortlist of promising models."
      ]
    },
    {
      "cell_type": "markdown",
      "metadata": {
        "id": "Nav_P98B4T1N",
        "colab_type": "text"
      },
      "source": [
        "Defining functions to print some metrics"
      ]
    },
    {
      "cell_type": "code",
      "metadata": {
        "id": "Rsewo_N84T1O",
        "colab_type": "code",
        "colab": {}
      },
      "source": [
        "def display_scores(scores):\n",
        "    for k in range(len(scores)):\n",
        "        print(\"Accuracy of {}-fold: {}%\".format(k+1,round(scores[k]*100,2)))\n",
        "    print(\"Mean:\", round(scores.mean()*100, 2))\n",
        "    print(\"Standard deviation:\", round(scores.std()*100, 4))\n",
        "    \n",
        "def performance_measurement(pipeline, x_train, y_train):\n",
        "    print(\"-- Cross Validation --\")\n",
        "    cross_val = cross_val_score(pipeline, x_train, y_train, cv=5, scoring=\"accuracy\")\n",
        "    display_scores(cross_val)\n",
        "    \n",
        "    y_train_pred = cross_val_predict(pipeline, x_train, y_train, cv=5)\n",
        "    \n",
        "    print(\"\\n-- Precision --\")\n",
        "    print(\"Precision of {}%\".format(round(precision_score(y_train, y_train_pred, pos_label='true')*100,2)))\n",
        "    \n",
        "    print(\"\\n-- Confusion Matrix --\")\n",
        "    print(confusion_matrix(y_train, y_train_pred))"
      ],
      "execution_count": 0,
      "outputs": []
    },
    {
      "cell_type": "markdown",
      "metadata": {
        "id": "0l5mDKI44T1R",
        "colab_type": "text"
      },
      "source": [
        "### Defining each metric:\n",
        "\n",
        "#### Accuracy: \n",
        "\n",
        "$$Accuracy = \\frac{True Positives}{Total}$$\n",
        "\n",
        "#### Precision: \n",
        "\n",
        "$$Precision = \\frac{True Positives}{True Positives + False Positives}$$\n",
        "\n",
        "#### Confusion Matrix:\n",
        "\n",
        "<table>\n",
        "  <tr>\n",
        "    <td style=\"border:1px solid black\">True Negatives</td>\n",
        "    <td style=\"border:1px solid black\">False Positives</td>\n",
        "  </tr>\n",
        "  <tr>\n",
        "    <td style=\"border:1px solid black\">False Negatives</td>\n",
        "    <td style=\"border:1px solid black\">True Positives</td>\n",
        "  </tr>\n",
        "</table>"
      ]
    },
    {
      "cell_type": "markdown",
      "metadata": {
        "id": "fya0kCsj4T1U",
        "colab_type": "text"
      },
      "source": [
        "## Logistic Regression"
      ]
    },
    {
      "cell_type": "code",
      "metadata": {
        "id": "YjAfbwvF4T1V",
        "colab_type": "code",
        "colab": {
          "base_uri": "https://localhost:8080/",
          "height": 272
        },
        "outputId": "e8497fe1-1284-4320-9189-cec5c5133f07"
      },
      "source": [
        "pipeline = Pipeline([('vect', CountVectorizer()),\n",
        "                     ('tfidf', TfidfTransformer()),\n",
        "                     ('model', LogisticRegression(random_state=RANDOM_STATE))\n",
        "                     ])\n",
        "\n",
        "performance_measurement(pipeline, x_train, y_train)"
      ],
      "execution_count": 22,
      "outputs": [
        {
          "output_type": "stream",
          "text": [
            "-- Cross Validation --\n",
            "Accuracy of 1-fold: 98.26%\n",
            "Accuracy of 2-fold: 98.5%\n",
            "Accuracy of 3-fold: 98.56%\n",
            "Accuracy of 4-fold: 98.58%\n",
            "Accuracy of 5-fold: 98.53%\n",
            "Mean: 98.49\n",
            "Standard deviation: 0.1175\n",
            "\n",
            "-- Precision --\n",
            "Precision of 98.18%\n",
            "\n",
            "-- Confusion Matrix --\n",
            "[[17098   312]\n",
            " [  209 16786]]\n"
          ],
          "name": "stdout"
        }
      ]
    },
    {
      "cell_type": "markdown",
      "metadata": {
        "id": "W_q0PNwN4T1Y",
        "colab_type": "text"
      },
      "source": [
        "## Linear Support Vector Classifier"
      ]
    },
    {
      "cell_type": "code",
      "metadata": {
        "id": "VmD5UDw54T1Z",
        "colab_type": "code",
        "outputId": "fa30bc0d-122c-4e67-9535-b069112c0f7e",
        "colab": {
          "base_uri": "https://localhost:8080/",
          "height": 272
        }
      },
      "source": [
        "pipeline = Pipeline([('vect', CountVectorizer()),\n",
        "                     ('tfidf', TfidfTransformer()),\n",
        "                     ('model', LinearSVC(random_state=RANDOM_STATE))\n",
        "                     ])\n",
        "\n",
        "performance_measurement(pipeline, x_train, y_train)"
      ],
      "execution_count": 23,
      "outputs": [
        {
          "output_type": "stream",
          "text": [
            "-- Cross Validation --\n",
            "Accuracy of 1-fold: 99.43%\n",
            "Accuracy of 2-fold: 99.43%\n",
            "Accuracy of 3-fold: 99.43%\n",
            "Accuracy of 4-fold: 99.36%\n",
            "Accuracy of 5-fold: 99.36%\n",
            "Mean: 99.4\n",
            "Standard deviation: 0.0356\n",
            "\n",
            "-- Precision --\n",
            "Precision of 99.35%\n",
            "\n",
            "-- Confusion Matrix --\n",
            "[[17300   110]\n",
            " [   95 16900]]\n"
          ],
          "name": "stdout"
        }
      ]
    },
    {
      "cell_type": "markdown",
      "metadata": {
        "id": "lvn4xh-J4T1c",
        "colab_type": "text"
      },
      "source": [
        "## Stochastic Gradient Descent"
      ]
    },
    {
      "cell_type": "code",
      "metadata": {
        "scrolled": true,
        "id": "TEbkLi3-4T1c",
        "colab_type": "code",
        "outputId": "e61c2739-6e49-409a-dd34-3d6e360ead10",
        "colab": {
          "base_uri": "https://localhost:8080/",
          "height": 272
        }
      },
      "source": [
        "pipeline = Pipeline([('vect', CountVectorizer()),\n",
        "                     ('tfidf', TfidfTransformer()),\n",
        "                     ('model', SGDClassifier(random_state=RANDOM_STATE))\n",
        "                     ])\n",
        "\n",
        "performance_measurement(pipeline, x_train, y_train)"
      ],
      "execution_count": 24,
      "outputs": [
        {
          "output_type": "stream",
          "text": [
            "-- Cross Validation --\n",
            "Accuracy of 1-fold: 98.9%\n",
            "Accuracy of 2-fold: 99.13%\n",
            "Accuracy of 3-fold: 99.06%\n",
            "Accuracy of 4-fold: 99.1%\n",
            "Accuracy of 5-fold: 99.13%\n",
            "Mean: 99.06\n",
            "Standard deviation: 0.087\n",
            "\n",
            "-- Precision --\n",
            "Precision of 98.9%\n",
            "\n",
            "-- Confusion Matrix --\n",
            "[[17222   188]\n",
            " [  135 16860]]\n"
          ],
          "name": "stdout"
        }
      ]
    },
    {
      "cell_type": "markdown",
      "metadata": {
        "id": "7DqSDyhx4T1h",
        "colab_type": "text"
      },
      "source": [
        "## Gradient Boost Classifier"
      ]
    },
    {
      "cell_type": "code",
      "metadata": {
        "id": "d3c-ViF_4T1h",
        "colab_type": "code",
        "colab": {
          "base_uri": "https://localhost:8080/",
          "height": 272
        },
        "outputId": "403078e7-0496-46ed-bf0d-1fe5c2bd4def"
      },
      "source": [
        "pipeline = Pipeline([('vect', CountVectorizer()),\n",
        "                     ('tfidf', TfidfTransformer()),\n",
        "                     ('model', XGBClassifier(\n",
        "                        learning_rate = 0.01,\n",
        "                        n_estimators = 10,\n",
        "                        max_depth = 5,\n",
        "                        objective = 'binary:logistic',\n",
        "                        random_state=RANDOM_STATE)\n",
        "                     )])\n",
        "\n",
        "performance_measurement(pipeline, x_train, y_train)"
      ],
      "execution_count": 25,
      "outputs": [
        {
          "output_type": "stream",
          "text": [
            "-- Cross Validation --\n",
            "Accuracy of 1-fold: 99.49%\n",
            "Accuracy of 2-fold: 99.35%\n",
            "Accuracy of 3-fold: 99.35%\n",
            "Accuracy of 4-fold: 99.46%\n",
            "Accuracy of 5-fold: 99.39%\n",
            "Mean: 99.41\n",
            "Standard deviation: 0.0598\n",
            "\n",
            "-- Precision --\n",
            "Precision of 99.12%\n",
            "\n",
            "-- Confusion Matrix --\n",
            "[[17259   151]\n",
            " [   53 16942]]\n"
          ],
          "name": "stdout"
        }
      ]
    },
    {
      "cell_type": "markdown",
      "metadata": {
        "id": "80qAmThaWlDi",
        "colab_type": "text"
      },
      "source": [
        "## Decision Tree"
      ]
    },
    {
      "cell_type": "code",
      "metadata": {
        "id": "v-DsODFRWjuN",
        "colab_type": "code",
        "colab": {
          "base_uri": "https://localhost:8080/",
          "height": 272
        },
        "outputId": "d91f4127-bebd-4a59-8634-8b6b3cd8a249"
      },
      "source": [
        "pipeline = Pipeline([('vect', CountVectorizer()),\n",
        "                     ('tfidf', TfidfTransformer()),\n",
        "                     ('model', DecisionTreeClassifier(\n",
        "                        criterion='entropy',\n",
        "                        max_depth = 10, \n",
        "                        splitter='best',\n",
        "                        random_state=RANDOM_STATE)\n",
        "                     )])\n",
        "\n",
        "performance_measurement(pipeline, x_train, y_train)"
      ],
      "execution_count": 26,
      "outputs": [
        {
          "output_type": "stream",
          "text": [
            "-- Cross Validation --\n",
            "Accuracy of 1-fold: 99.58%\n",
            "Accuracy of 2-fold: 99.49%\n",
            "Accuracy of 3-fold: 99.42%\n",
            "Accuracy of 4-fold: 99.55%\n",
            "Accuracy of 5-fold: 99.42%\n",
            "Mean: 99.49\n",
            "Standard deviation: 0.0656\n",
            "\n",
            "-- Precision --\n",
            "Precision of 99.54%\n",
            "\n",
            "-- Confusion Matrix --\n",
            "[[17332    78]\n",
            " [   97 16898]]\n"
          ],
          "name": "stdout"
        }
      ]
    },
    {
      "cell_type": "markdown",
      "metadata": {
        "id": "ywo25qrW4T1k",
        "colab_type": "text"
      },
      "source": [
        "## Random Forest"
      ]
    },
    {
      "cell_type": "code",
      "metadata": {
        "id": "e61gUeNA4T1l",
        "colab_type": "code",
        "outputId": "ff13e07b-9e5c-4453-c43e-896e43ec1a3e",
        "colab": {
          "base_uri": "https://localhost:8080/",
          "height": 272
        }
      },
      "source": [
        "pipeline = Pipeline([('vect', CountVectorizer()),\n",
        "                     ('tfidf', TfidfTransformer()),\n",
        "                     ('model', RandomForestClassifier(random_state=RANDOM_STATE)\n",
        "                     )])\n",
        "\n",
        "performance_measurement(pipeline, x_train, y_train)"
      ],
      "execution_count": 27,
      "outputs": [
        {
          "output_type": "stream",
          "text": [
            "-- Cross Validation --\n",
            "Accuracy of 1-fold: 98.87%\n",
            "Accuracy of 2-fold: 98.56%\n",
            "Accuracy of 3-fold: 98.81%\n",
            "Accuracy of 4-fold: 98.5%\n",
            "Accuracy of 5-fold: 98.74%\n",
            "Mean: 98.69\n",
            "Standard deviation: 0.1404\n",
            "\n",
            "-- Precision --\n",
            "Precision of 98.9%\n",
            "\n",
            "-- Confusion Matrix --\n",
            "[[17224   186]\n",
            " [  263 16732]]\n"
          ],
          "name": "stdout"
        }
      ]
    },
    {
      "cell_type": "markdown",
      "metadata": {
        "collapsed": true,
        "id": "5KeJ6L9k4T1o",
        "colab_type": "text"
      },
      "source": [
        "At this moment the Linear Support Vector Classifier, Gradient Boost Classifier, and the Decision Tree had the best results, so they will be fine-tuned to choose the best hyperparameters."
      ]
    },
    {
      "cell_type": "markdown",
      "metadata": {
        "id": "KpDR1K1mXWL8",
        "colab_type": "text"
      },
      "source": [
        "# Fine-Tune the models"
      ]
    },
    {
      "cell_type": "markdown",
      "metadata": {
        "id": "OoV4r7-44T1p",
        "colab_type": "text"
      },
      "source": [
        "## Grid Search"
      ]
    },
    {
      "cell_type": "code",
      "metadata": {
        "id": "7ooyfEKt4T1p",
        "colab_type": "code",
        "colab": {}
      },
      "source": [
        "svc_param_grid = [    \n",
        "    {'max_iter': [1000, 5000, 10000], 'C': [1, 1.5, 2],    \n",
        "    'loss': ['hinge', 'squared_hinge'], 'tol': [1e-5, 1e-4], \n",
        "    'random_state': [RANDOM_STATE]}\n",
        "]\n",
        "\n",
        "xgb_param_grid = [\n",
        "    {'max_depth': [5], 'learning_rate': [0.01, 0.001],\n",
        "    'objective': ['binary:logistic'], 'n_estimators': [100, 1000], \n",
        "    'random_state': [RANDOM_STATE]}\n",
        "]\n",
        "\n",
        "dt_param_grid = [\n",
        "    {'max_depth': [None, 10], 'max_features': ['auto', 'log2', None], \n",
        "     'criterion': ['entropy'], 'splitter': ['best'],\n",
        "     'random_state': [RANDOM_STATE]}\n",
        "]"
      ],
      "execution_count": 0,
      "outputs": []
    },
    {
      "cell_type": "code",
      "metadata": {
        "id": "pj8_rRmT4T1s",
        "colab_type": "code",
        "colab": {}
      },
      "source": [
        "data_pipeline = Pipeline([('vect', CountVectorizer()),\n",
        "                     ('tfidf', TfidfTransformer())\n",
        "                    ])\n",
        "\n",
        "x_prepared = data_pipeline.fit_transform(x_train.values)"
      ],
      "execution_count": 0,
      "outputs": []
    },
    {
      "cell_type": "markdown",
      "metadata": {
        "id": "hZcRBYOk4T1w",
        "colab_type": "text"
      },
      "source": [
        "### Linear Support Vector Classifier"
      ]
    },
    {
      "cell_type": "code",
      "metadata": {
        "id": "6-AfDpYW4T1x",
        "colab_type": "code",
        "outputId": "3c69ea73-6857-450f-ae13-340a9cdfb539",
        "colab": {
          "base_uri": "https://localhost:8080/",
          "height": 255
        }
      },
      "source": [
        "model = LinearSVC()\n",
        "\n",
        "svc_grid_search = GridSearchCV(model, svc_param_grid, cv=5,\n",
        "                           scoring='accuracy',\n",
        "                           return_train_score=True)\n",
        "\n",
        "svc_grid_search.fit(x_prepared, y_train)"
      ],
      "execution_count": 0,
      "outputs": [
        {
          "output_type": "stream",
          "text": [
            "/usr/local/lib/python3.6/dist-packages/sklearn/svm/_base.py:947: ConvergenceWarning: Liblinear failed to converge, increase the number of iterations.\n",
            "  \"the number of iterations.\", ConvergenceWarning)\n"
          ],
          "name": "stderr"
        },
        {
          "output_type": "execute_result",
          "data": {
            "text/plain": [
              "GridSearchCV(cv=5, error_score=nan,\n",
              "             estimator=LinearSVC(C=1.0, class_weight=None, dual=True,\n",
              "                                 fit_intercept=True, intercept_scaling=1,\n",
              "                                 loss='squared_hinge', max_iter=1000,\n",
              "                                 multi_class='ovr', penalty='l2',\n",
              "                                 random_state=None, tol=0.0001, verbose=0),\n",
              "             iid='deprecated', n_jobs=None,\n",
              "             param_grid=[{'C': [1, 1.5, 2], 'loss': ['hinge', 'squared_hinge'],\n",
              "                          'max_iter': [1000, 5000, 10000], 'random_state': [42],\n",
              "                          'tol': [1e-05, 0.0001]}],\n",
              "             pre_dispatch='2*n_jobs', refit=True, return_train_score=True,\n",
              "             scoring='accuracy', verbose=0)"
            ]
          },
          "metadata": {
            "tags": []
          },
          "execution_count": 37
        }
      ]
    },
    {
      "cell_type": "code",
      "metadata": {
        "id": "p597wiqoQzZ7",
        "colab_type": "code",
        "outputId": "13719a55-f292-4472-b20c-7fc3270bcf23",
        "colab": {
          "base_uri": "https://localhost:8080/",
          "height": 102
        }
      },
      "source": [
        "svc_grid_search.best_params_"
      ],
      "execution_count": 0,
      "outputs": [
        {
          "output_type": "execute_result",
          "data": {
            "text/plain": [
              "{'C': 1.5,\n",
              " 'loss': 'squared_hinge',\n",
              " 'max_iter': 1000,\n",
              " 'random_state': 42,\n",
              " 'tol': 1e-05}"
            ]
          },
          "metadata": {
            "tags": []
          },
          "execution_count": 38
        }
      ]
    },
    {
      "cell_type": "code",
      "metadata": {
        "id": "Xb2sRD34RdKb",
        "colab_type": "code",
        "outputId": "71142398-375b-42f5-8759-432152e6d6f9",
        "colab": {
          "base_uri": "https://localhost:8080/",
          "height": 85
        }
      },
      "source": [
        "svc_grid_search.best_estimator_"
      ],
      "execution_count": 0,
      "outputs": [
        {
          "output_type": "execute_result",
          "data": {
            "text/plain": [
              "LinearSVC(C=1.5, class_weight=None, dual=True, fit_intercept=True,\n",
              "          intercept_scaling=1, loss='squared_hinge', max_iter=1000,\n",
              "          multi_class='ovr', penalty='l2', random_state=42, tol=1e-05,\n",
              "          verbose=0)"
            ]
          },
          "metadata": {
            "tags": []
          },
          "execution_count": 39
        }
      ]
    },
    {
      "cell_type": "code",
      "metadata": {
        "id": "kV9eCRRARjaJ",
        "colab_type": "code",
        "outputId": "a38915be-ade0-4628-b7d8-4fa28d4e6ce1",
        "colab": {
          "base_uri": "https://localhost:8080/",
          "height": 34
        }
      },
      "source": [
        "svc_grid_search.best_score_"
      ],
      "execution_count": 0,
      "outputs": [
        {
          "output_type": "execute_result",
          "data": {
            "text/plain": [
              "0.9944484813253889"
            ]
          },
          "metadata": {
            "tags": []
          },
          "execution_count": 40
        }
      ]
    },
    {
      "cell_type": "markdown",
      "metadata": {
        "id": "c13rnRQw4T1z",
        "colab_type": "text"
      },
      "source": [
        "### Gradient Boost Classifier"
      ]
    },
    {
      "cell_type": "code",
      "metadata": {
        "id": "42_fJtPk4T10",
        "colab_type": "code",
        "outputId": "0c9f8d5c-5725-485b-de82-caa3545be4ed",
        "colab": {
          "base_uri": "https://localhost:8080/",
          "height": 323
        }
      },
      "source": [
        "model = XGBClassifier()\n",
        "\n",
        "xgb_grid_search = GridSearchCV(model, xgb_param_grid, cv=5,\n",
        "                           scoring='accuracy',\n",
        "                           return_train_score=True)\n",
        "\n",
        "xgb_grid_search.fit(x_prepared, y_train)"
      ],
      "execution_count": 0,
      "outputs": [
        {
          "output_type": "execute_result",
          "data": {
            "text/plain": [
              "GridSearchCV(cv=5, error_score=nan,\n",
              "             estimator=XGBClassifier(base_score=0.5, booster='gbtree',\n",
              "                                     colsample_bylevel=1, colsample_bynode=1,\n",
              "                                     colsample_bytree=1, gamma=0,\n",
              "                                     learning_rate=0.1, max_delta_step=0,\n",
              "                                     max_depth=3, min_child_weight=1,\n",
              "                                     missing=None, n_estimators=100, n_jobs=1,\n",
              "                                     nthread=None, objective='binary:logistic',\n",
              "                                     random_state=0, reg_alpha=0, reg_lambda=1,\n",
              "                                     scale_pos_weight=1, seed=None, silent=None,\n",
              "                                     subsample=1, verbosity=1),\n",
              "             iid='deprecated', n_jobs=None,\n",
              "             param_grid=[{'learning_rate': [0.01, 0.001], 'max_depth': [5],\n",
              "                          'n_estimators': [100, 1000],\n",
              "                          'objective': ['binary:logistic'],\n",
              "                          'random_state': [42]}],\n",
              "             pre_dispatch='2*n_jobs', refit=True, return_train_score=True,\n",
              "             scoring='accuracy', verbose=0)"
            ]
          },
          "metadata": {
            "tags": []
          },
          "execution_count": 35
        }
      ]
    },
    {
      "cell_type": "code",
      "metadata": {
        "id": "wToq-62X4T13",
        "colab_type": "code",
        "outputId": "49a926bf-b8c9-41f9-f836-4b691b2d6fe1",
        "colab": {
          "base_uri": "https://localhost:8080/",
          "height": 102
        }
      },
      "source": [
        "xgb_grid_search.best_params_"
      ],
      "execution_count": 0,
      "outputs": [
        {
          "output_type": "execute_result",
          "data": {
            "text/plain": [
              "{'learning_rate': 0.01,\n",
              " 'max_depth': 5,\n",
              " 'n_estimators': 1000,\n",
              " 'objective': 'binary:logistic',\n",
              " 'random_state': 42}"
            ]
          },
          "metadata": {
            "tags": []
          },
          "execution_count": 36
        }
      ]
    },
    {
      "cell_type": "code",
      "metadata": {
        "id": "2kIQkaqOR3C2",
        "colab_type": "code",
        "outputId": "f63a1625-5fe5-490b-aece-23b1fa113073",
        "colab": {
          "base_uri": "https://localhost:8080/",
          "height": 136
        }
      },
      "source": [
        "xgb_grid_search.best_estimator_"
      ],
      "execution_count": 0,
      "outputs": [
        {
          "output_type": "execute_result",
          "data": {
            "text/plain": [
              "XGBClassifier(base_score=0.5, booster='gbtree', colsample_bylevel=1,\n",
              "              colsample_bynode=1, colsample_bytree=1, gamma=0,\n",
              "              learning_rate=0.01, max_delta_step=0, max_depth=5,\n",
              "              min_child_weight=1, missing=None, n_estimators=1000, n_jobs=1,\n",
              "              nthread=None, objective='binary:logistic', random_state=42,\n",
              "              reg_alpha=0, reg_lambda=1, scale_pos_weight=1, seed=None,\n",
              "              silent=None, subsample=1, verbosity=1)"
            ]
          },
          "metadata": {
            "tags": []
          },
          "execution_count": 38
        }
      ]
    },
    {
      "cell_type": "code",
      "metadata": {
        "id": "ZB0FCHBER5AA",
        "colab_type": "code",
        "outputId": "492d2246-b990-439b-c92f-502a87c8459d",
        "colab": {
          "base_uri": "https://localhost:8080/",
          "height": 34
        }
      },
      "source": [
        "xgb_grid_search.best_score_"
      ],
      "execution_count": 0,
      "outputs": [
        {
          "output_type": "execute_result",
          "data": {
            "text/plain": [
              "0.9970643801772997"
            ]
          },
          "metadata": {
            "tags": []
          },
          "execution_count": 39
        }
      ]
    },
    {
      "cell_type": "markdown",
      "metadata": {
        "id": "gU2iJ4P-ikOC",
        "colab_type": "text"
      },
      "source": [
        "### Decision Tree"
      ]
    },
    {
      "cell_type": "code",
      "metadata": {
        "id": "zQVHgm57ircz",
        "colab_type": "code",
        "outputId": "c25a7c1d-3551-4a6e-ab46-5d0db25b8d4d",
        "colab": {
          "base_uri": "https://localhost:8080/",
          "height": 340
        }
      },
      "source": [
        "model = DecisionTreeClassifier()\n",
        "\n",
        "dt_grid_search = GridSearchCV(model, dt_param_grid, cv=5,\n",
        "                           scoring='accuracy',\n",
        "                           return_train_score=True)\n",
        "\n",
        "dt_grid_search.fit(x_prepared, y_train)"
      ],
      "execution_count": 0,
      "outputs": [
        {
          "output_type": "execute_result",
          "data": {
            "text/plain": [
              "GridSearchCV(cv=5, error_score=nan,\n",
              "             estimator=DecisionTreeClassifier(ccp_alpha=0.0, class_weight=None,\n",
              "                                              criterion='gini', max_depth=None,\n",
              "                                              max_features=None,\n",
              "                                              max_leaf_nodes=None,\n",
              "                                              min_impurity_decrease=0.0,\n",
              "                                              min_impurity_split=None,\n",
              "                                              min_samples_leaf=1,\n",
              "                                              min_samples_split=2,\n",
              "                                              min_weight_fraction_leaf=0.0,\n",
              "                                              presort='deprecated',\n",
              "                                              random_state=None,\n",
              "                                              splitter='best'),\n",
              "             iid='deprecated', n_jobs=None,\n",
              "             param_grid=[{'criterion': ['entropy'], 'max_depth': [None, 10],\n",
              "                          'max_features': ['auto', 'log2', None],\n",
              "                          'random_state': [42], 'splitter': ['best']}],\n",
              "             pre_dispatch='2*n_jobs', refit=True, return_train_score=True,\n",
              "             scoring='accuracy', verbose=0)"
            ]
          },
          "metadata": {
            "tags": []
          },
          "execution_count": 31
        }
      ]
    },
    {
      "cell_type": "code",
      "metadata": {
        "id": "77prpmSWkW0d",
        "colab_type": "code",
        "outputId": "5c042e75-014f-488d-b0f6-1028e43ae8f8",
        "colab": {
          "base_uri": "https://localhost:8080/",
          "height": 102
        }
      },
      "source": [
        "dt_grid_search.best_params_"
      ],
      "execution_count": 0,
      "outputs": [
        {
          "output_type": "execute_result",
          "data": {
            "text/plain": [
              "{'criterion': 'entropy',\n",
              " 'max_depth': None,\n",
              " 'max_features': None,\n",
              " 'random_state': 42,\n",
              " 'splitter': 'best'}"
            ]
          },
          "metadata": {
            "tags": []
          },
          "execution_count": 32
        }
      ]
    },
    {
      "cell_type": "code",
      "metadata": {
        "id": "mHK9E0IzkYoZ",
        "colab_type": "code",
        "outputId": "f7e81ec4-3c34-4722-aab1-5a9953c096e5",
        "colab": {
          "base_uri": "https://localhost:8080/",
          "height": 119
        }
      },
      "source": [
        "dt_grid_search.best_estimator_"
      ],
      "execution_count": 0,
      "outputs": [
        {
          "output_type": "execute_result",
          "data": {
            "text/plain": [
              "DecisionTreeClassifier(ccp_alpha=0.0, class_weight=None, criterion='entropy',\n",
              "                       max_depth=None, max_features=None, max_leaf_nodes=None,\n",
              "                       min_impurity_decrease=0.0, min_impurity_split=None,\n",
              "                       min_samples_leaf=1, min_samples_split=2,\n",
              "                       min_weight_fraction_leaf=0.0, presort='deprecated',\n",
              "                       random_state=42, splitter='best')"
            ]
          },
          "metadata": {
            "tags": []
          },
          "execution_count": 40
        }
      ]
    },
    {
      "cell_type": "code",
      "metadata": {
        "id": "ahgWtAv1kbTZ",
        "colab_type": "code",
        "outputId": "0ec09eec-b3ff-421d-925a-5ae71e5c23d8",
        "colab": {
          "base_uri": "https://localhost:8080/",
          "height": 34
        }
      },
      "source": [
        "dt_grid_search.best_score_"
      ],
      "execution_count": 0,
      "outputs": [
        {
          "output_type": "execute_result",
          "data": {
            "text/plain": [
              "0.9950007266385699"
            ]
          },
          "metadata": {
            "tags": []
          },
          "execution_count": 34
        }
      ]
    },
    {
      "cell_type": "markdown",
      "metadata": {
        "id": "Tpgj3YEIX1sA",
        "colab_type": "text"
      },
      "source": [
        "# Ensembling the models"
      ]
    },
    {
      "cell_type": "markdown",
      "metadata": {
        "id": "GmO9r9avgCIv",
        "colab_type": "text"
      },
      "source": [
        "As we found the best hyperparameters, let's ensemble the models in a voting classifier and compare the results on a last evaluation using the test set."
      ]
    },
    {
      "cell_type": "markdown",
      "metadata": {
        "id": "r88_c8jyYI-l",
        "colab_type": "text"
      },
      "source": [
        "## Voting Classifier"
      ]
    },
    {
      "cell_type": "code",
      "metadata": {
        "id": "8zhO5WIOY0YV",
        "colab_type": "code",
        "colab": {}
      },
      "source": [
        "# classifiers with the best parameters\n",
        "\n",
        "# --- XGB ---\n",
        "xgb_clf = XGBClassifier(learning_rate = 0.001, n_estimators = 1000, max_depth = 5,\n",
        "                        objective = 'binary:logistic',\n",
        "                        random_state=RANDOM_STATE)\n",
        "\n",
        "xgb_pipeline = Pipeline([('vect', CountVectorizer()),\n",
        "                         ('tfidf', TfidfTransformer()),\n",
        "                         ('model', xgb_clf)])\n",
        "\n",
        "# --- SVC ---\n",
        "svc_clf = LinearSVC(C=1.5, class_weight=None, dual=True, fit_intercept=True,\n",
        "                    intercept_scaling=1, loss='squared_hinge', max_iter=1000,\n",
        "                    multi_class='ovr', penalty='l2', tol=1e-05,\n",
        "                    random_state=RANDOM_STATE)\n",
        "\n",
        "# need to use a calibration over linear svc in order to make it a probabilistic classifier\n",
        "calibrated_svc_clf = CalibratedClassifierCV(svc_clf, method='sigmoid', cv=5) \n",
        "\n",
        "svc_pipeline = Pipeline([('vect', CountVectorizer()),\n",
        "                         ('tfidf', TfidfTransformer()),\n",
        "                         ('model', calibrated_svc_clf)])\n",
        "\n",
        "# --- Decision Tree ---\n",
        "dt_clf = DecisionTreeClassifier(criterion='entropy', max_depth=None,\n",
        "                                max_features=None, splitter='best', \n",
        "                                random_state=RANDOM_STATE)\n",
        "\n",
        "dt_pipeline = Pipeline([('vect', CountVectorizer()),\n",
        "                         ('tfidf', TfidfTransformer()),\n",
        "                         ('model', dt_clf)])\n",
        "\n",
        "# --- Voting ---\n",
        "voting_clf = VotingClassifier(\n",
        "        estimators = [('xgb', xgb_clf), ('svc', calibrated_svc_clf), ('dtree', dt_clf)],    \n",
        "        voting='soft') \n",
        "\n",
        "voting_pipeline = Pipeline([('vect', CountVectorizer()),\n",
        "                            ('tfidf', TfidfTransformer()),\n",
        "                            ('model', voting_clf)])"
      ],
      "execution_count": 0,
      "outputs": []
    },
    {
      "cell_type": "markdown",
      "metadata": {
        "id": "RldMqrwKpB_K",
        "colab_type": "text"
      },
      "source": [
        "## Final Measurement"
      ]
    },
    {
      "cell_type": "code",
      "metadata": {
        "id": "0MuuFaO5r-Mz",
        "colab_type": "code",
        "outputId": "4523c759-66b8-405a-f63f-8ea9e2dbe7e8",
        "colab": {
          "base_uri": "https://localhost:8080/",
          "height": 85
        }
      },
      "source": [
        "svc_pipeline.fit(x_train, y_train)\n",
        "print('Linear SVC done.')\n",
        "dt_pipeline.fit(x_train, y_train)\n",
        "print('Decision Tree done.')\n",
        "xgb_pipeline.fit(x_train, y_train)\n",
        "print('XGB done.')\n",
        "voting_pipeline.fit(x_train, y_train)\n",
        "print('Voting Classifier done.')"
      ],
      "execution_count": 0,
      "outputs": [
        {
          "output_type": "stream",
          "text": [
            "[LibLinear][LibLinear][LibLinear][LibLinear][LibLinear]Linear SVC done.\n",
            "Decision Tree done.\n",
            "XGB done.\n",
            "[LibLinear][LibLinear][LibLinear][LibLinear][LibLinear]Voting Classifier done.\n"
          ],
          "name": "stdout"
        }
      ]
    },
    {
      "cell_type": "code",
      "metadata": {
        "id": "JDLRv61ZEEeP",
        "colab_type": "code",
        "colab": {}
      },
      "source": [
        "joblib.dump(svc_pipeline, PATH + 'models/FakeNews/svc_model.pkl', compress=9)\n",
        "joblib.dump(xgb_pipeline, PATH + 'models/FakeNews/xgb_model.pkl', compress=9)\n",
        "joblib.dump(dt_pipeline, P ATH + 'models/FakeNews/dt_model.pkl', compress=9)\n",
        "joblib.dump(voting_pipeline, P ATH + 'models/FakeNews/voting_model.pkl', compress=9)"
      ],
      "execution_count": 0,
      "outputs": []
    },
    {
      "cell_type": "code",
      "metadata": {
        "id": "ISz2CNRhSTnt",
        "colab_type": "code",
        "colab": {}
      },
      "source": [
        "svc_pipeline = joblib.load(PATH + 'models/FakeNews/svc_model.pkl')\n",
        "xgb_pipeline = joblib.load(PATH + 'models/FakeNews/xgb_model.pkl')\n",
        "dt_pipeline = joblib.load(PATH + 'models/FakeNews/dt_model.pkl')\n",
        "voting_pipeline = joblib.load(PATH + 'models/FakeNews/voting_model.pkl')"
      ],
      "execution_count": 0,
      "outputs": []
    },
    {
      "cell_type": "code",
      "metadata": {
        "id": "DSsy3OU9rFvB",
        "colab_type": "code",
        "colab": {}
      },
      "source": [
        "xgb_pred = xgb_pipeline.predict(x_test)\n",
        "svc_pred = svc_pipeline.predict(x_test)\n",
        "dt_pred = dt_pipeline.predict(x_test)\n",
        "voting_pred = voting_pipeline.predict(x_test)"
      ],
      "execution_count": 0,
      "outputs": []
    },
    {
      "cell_type": "code",
      "metadata": {
        "id": "hxXtDtanriJ_",
        "colab_type": "code",
        "outputId": "5654a43f-6582-4aba-cc6e-1c30b3f2ff22",
        "colab": {
          "base_uri": "https://localhost:8080/",
          "height": 85
        }
      },
      "source": [
        "print(\"Accuracy for XGB Model: %.2f\" % (accuracy_score(y_test, xgb_pred) * 100))\n",
        "print(\"Accuracy for SVC Model: %.2f\" % (accuracy_score(y_test, svc_pred) * 100))\n",
        "print(\"Accuracy for Decision Tree Model: %.2f\" % (accuracy_score(y_test, dt_pred) * 100))\n",
        "print(\"Accuracy for Voting Classifier Model: %.2f\" % (accuracy_score(y_test, voting_pred) * 100))"
      ],
      "execution_count": 0,
      "outputs": [
        {
          "output_type": "stream",
          "text": [
            "Accuracy for XGB Model: 99.47\n",
            "Accuracy for SVC Model: 99.61\n",
            "Accuracy for Decision Tree Model: 99.48\n",
            "Accuracy for Voting Classifier Model: 99.72\n"
          ],
          "name": "stdout"
        }
      ]
    },
    {
      "cell_type": "markdown",
      "metadata": {
        "id": "kvlISrUZWPte",
        "colab_type": "text"
      },
      "source": [
        "As expected the voting classifier has the best accuracy between the models, so he is the best choice to classify fake news."
      ]
    }
  ]
}